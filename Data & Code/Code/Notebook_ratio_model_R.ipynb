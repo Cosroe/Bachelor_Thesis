{
 "cells": [
  {
   "cell_type": "code",
   "execution_count": 1,
   "metadata": {
    "vscode": {
     "languageId": "r"
    }
   },
   "outputs": [
    {
     "name": "stderr",
     "output_type": "stream",
     "text": [
      "Lade n\"otiges Paket: zoo\n",
      "\n",
      "\n",
      "Attache Paket: 'zoo'\n",
      "\n",
      "\n",
      "Die folgenden Objekte sind maskiert von 'package:base':\n",
      "\n",
      "    as.Date, as.Date.numeric\n",
      "\n",
      "\n"
     ]
    }
   ],
   "source": [
    "library(plm)\n",
    "library(lmtest)\n",
    "library(sandwich)\n",
    "library(zoo)"
   ]
  },
  {
   "cell_type": "code",
   "execution_count": 2,
   "metadata": {
    "vscode": {
     "languageId": "r"
    }
   },
   "outputs": [
    {
     "data": {
      "text/html": [
       "<table class=\"dataframe\">\n",
       "<caption>A pdata.frame: 6 x 26</caption>\n",
       "<thead>\n",
       "\t<tr><th></th><th scope=col>Index</th><th scope=col>country</th><th scope=col>year</th><th scope=col>rgdpo</th><th scope=col>Lnrgdpo</th><th scope=col>labor_stock</th><th scope=col>capital_stock</th><th scope=col>capital_labor_ratio</th><th scope=col>Lncap_lab_ratio</th><th scope=col>Overall_Score</th><th scope=col>...</th><th scope=col>Fiscal_Health</th><th scope=col>Government_size</th><th scope=col>Business_Freedom</th><th scope=col>Labor_Freedom</th><th scope=col>Monetary_Freedom</th><th scope=col>Regulatory_efficiency</th><th scope=col>Trade_Freedom</th><th scope=col>Investment_Freedom</th><th scope=col>Financial_Freedom</th><th scope=col>Market_openness</th></tr>\n",
       "\t<tr><th></th><th scope=col>&lt;int&gt;</th><th scope=col>&lt;fct&gt;</th><th scope=col>&lt;fct&gt;</th><th scope=col>&lt;dbl&gt;</th><th scope=col>&lt;dbl&gt;</th><th scope=col>&lt;dbl&gt;</th><th scope=col>&lt;dbl&gt;</th><th scope=col>&lt;dbl&gt;</th><th scope=col>&lt;dbl&gt;</th><th scope=col>&lt;dbl&gt;</th><th scope=col>...</th><th scope=col>&lt;dbl&gt;</th><th scope=col>&lt;dbl&gt;</th><th scope=col>&lt;dbl&gt;</th><th scope=col>&lt;dbl&gt;</th><th scope=col>&lt;dbl&gt;</th><th scope=col>&lt;dbl&gt;</th><th scope=col>&lt;dbl&gt;</th><th scope=col>&lt;int&gt;</th><th scope=col>&lt;int&gt;</th><th scope=col>&lt;dbl&gt;</th></tr>\n",
       "</thead>\n",
       "<tbody>\n",
       "\t<tr><th scope=row>Austria-2000</th><td>0</td><td>Austria</td><td>2000</td><td>306927.6</td><td>12.63437</td><td>21077.29</td><td>1798700</td><td>85.33829</td><td>4.446623</td><td>68.4</td><td>...</td><td>NA</td><td>34.60</td><td>70</td><td>  NA</td><td>88.4</td><td>79.20000</td><td>83.0</td><td>70</td><td>70</td><td>74.33333</td></tr>\n",
       "\t<tr><th scope=row>Austria-2001</th><td>1</td><td>Austria</td><td>2001</td><td>299963.1</td><td>12.61141</td><td>21178.49</td><td>1844588</td><td>87.09725</td><td>4.467025</td><td>68.1</td><td>...</td><td>NA</td><td>34.60</td><td>70</td><td>  NA</td><td>89.6</td><td>79.80000</td><td>78.0</td><td>70</td><td>70</td><td>72.66667</td></tr>\n",
       "\t<tr><th scope=row>Austria-2002</th><td>2</td><td>Austria</td><td>2002</td><td>306288.5</td><td>12.63228</td><td>21229.01</td><td>1884054</td><td>88.74902</td><td>4.485812</td><td>67.4</td><td>...</td><td>NA</td><td>31.70</td><td>70</td><td>  NA</td><td>86.4</td><td>78.20000</td><td>79.6</td><td>70</td><td>70</td><td>73.20000</td></tr>\n",
       "\t<tr><th scope=row>Austria-2003</th><td>3</td><td>Austria</td><td>2003</td><td>313908.3</td><td>12.65686</td><td>21376.20</td><td>1926565</td><td>90.12666</td><td>4.501216</td><td>67.6</td><td>...</td><td>NA</td><td>31.95</td><td>70</td><td>  NA</td><td>85.1</td><td>77.55000</td><td>81.4</td><td>70</td><td>70</td><td>73.80000</td></tr>\n",
       "\t<tr><th scope=row>Austria-2004</th><td>4</td><td>Austria</td><td>2004</td><td>326475.0</td><td>12.69611</td><td>21625.92</td><td>1968064</td><td>91.00489</td><td>4.510913</td><td>67.6</td><td>...</td><td>NA</td><td>32.25</td><td>70</td><td>  NA</td><td>85.9</td><td>77.95000</td><td>79.8</td><td>70</td><td>70</td><td>73.26667</td></tr>\n",
       "\t<tr><th scope=row>Austria-2005</th><td>5</td><td>Austria</td><td>2005</td><td>357373.0</td><td>12.78654</td><td>21652.46</td><td>2008219</td><td>92.74784</td><td>4.529884</td><td>68.8</td><td>...</td><td>NA</td><td>33.50</td><td>70</td><td>73.6</td><td>87.0</td><td>76.86667</td><td>80.2</td><td>70</td><td>70</td><td>73.40000</td></tr>\n",
       "</tbody>\n",
       "</table>\n"
      ],
      "text/latex": [
       "A pdata.frame: 6 x 26\n",
       "\\begin{tabular}{r|lllllllllllllllllllll}\n",
       "  & Index & country & year & rgdpo & Lnrgdpo & labor\\_stock & capital\\_stock & capital\\_labor\\_ratio & Lncap\\_lab\\_ratio & Overall\\_Score & ... & Fiscal\\_Health & Government\\_size & Business\\_Freedom & Labor\\_Freedom & Monetary\\_Freedom & Regulatory\\_efficiency & Trade\\_Freedom & Investment\\_Freedom & Financial\\_Freedom & Market\\_openness\\\\\n",
       "  & <int> & <fct> & <fct> & <dbl> & <dbl> & <dbl> & <dbl> & <dbl> & <dbl> & <dbl> & ... & <dbl> & <dbl> & <dbl> & <dbl> & <dbl> & <dbl> & <dbl> & <int> & <int> & <dbl>\\\\\n",
       "\\hline\n",
       "\tAustria-2000 & 0 & Austria & 2000 & 306927.6 & 12.63437 & 21077.29 & 1798700 & 85.33829 & 4.446623 & 68.4 & ... & NA & 34.60 & 70 &   NA & 88.4 & 79.20000 & 83.0 & 70 & 70 & 74.33333\\\\\n",
       "\tAustria-2001 & 1 & Austria & 2001 & 299963.1 & 12.61141 & 21178.49 & 1844588 & 87.09725 & 4.467025 & 68.1 & ... & NA & 34.60 & 70 &   NA & 89.6 & 79.80000 & 78.0 & 70 & 70 & 72.66667\\\\\n",
       "\tAustria-2002 & 2 & Austria & 2002 & 306288.5 & 12.63228 & 21229.01 & 1884054 & 88.74902 & 4.485812 & 67.4 & ... & NA & 31.70 & 70 &   NA & 86.4 & 78.20000 & 79.6 & 70 & 70 & 73.20000\\\\\n",
       "\tAustria-2003 & 3 & Austria & 2003 & 313908.3 & 12.65686 & 21376.20 & 1926565 & 90.12666 & 4.501216 & 67.6 & ... & NA & 31.95 & 70 &   NA & 85.1 & 77.55000 & 81.4 & 70 & 70 & 73.80000\\\\\n",
       "\tAustria-2004 & 4 & Austria & 2004 & 326475.0 & 12.69611 & 21625.92 & 1968064 & 91.00489 & 4.510913 & 67.6 & ... & NA & 32.25 & 70 &   NA & 85.9 & 77.95000 & 79.8 & 70 & 70 & 73.26667\\\\\n",
       "\tAustria-2005 & 5 & Austria & 2005 & 357373.0 & 12.78654 & 21652.46 & 2008219 & 92.74784 & 4.529884 & 68.8 & ... & NA & 33.50 & 70 & 73.6 & 87.0 & 76.86667 & 80.2 & 70 & 70 & 73.40000\\\\\n",
       "\\end{tabular}\n"
      ],
      "text/markdown": [
       "\n",
       "A pdata.frame: 6 x 26\n",
       "\n",
       "| <!--/--> | Index &lt;int&gt; | country &lt;fct&gt; | year &lt;fct&gt; | rgdpo &lt;dbl&gt; | Lnrgdpo &lt;dbl&gt; | labor_stock &lt;dbl&gt; | capital_stock &lt;dbl&gt; | capital_labor_ratio &lt;dbl&gt; | Lncap_lab_ratio &lt;dbl&gt; | Overall_Score &lt;dbl&gt; | ... ... | Fiscal_Health &lt;dbl&gt; | Government_size &lt;dbl&gt; | Business_Freedom &lt;dbl&gt; | Labor_Freedom &lt;dbl&gt; | Monetary_Freedom &lt;dbl&gt; | Regulatory_efficiency &lt;dbl&gt; | Trade_Freedom &lt;dbl&gt; | Investment_Freedom &lt;int&gt; | Financial_Freedom &lt;int&gt; | Market_openness &lt;dbl&gt; |\n",
       "|---|---|---|---|---|---|---|---|---|---|---|---|---|---|---|---|---|---|---|---|---|---|\n",
       "| Austria-2000 | 0 | Austria | 2000 | 306927.6 | 12.63437 | 21077.29 | 1798700 | 85.33829 | 4.446623 | 68.4 | ... | NA | 34.60 | 70 |   NA | 88.4 | 79.20000 | 83.0 | 70 | 70 | 74.33333 |\n",
       "| Austria-2001 | 1 | Austria | 2001 | 299963.1 | 12.61141 | 21178.49 | 1844588 | 87.09725 | 4.467025 | 68.1 | ... | NA | 34.60 | 70 |   NA | 89.6 | 79.80000 | 78.0 | 70 | 70 | 72.66667 |\n",
       "| Austria-2002 | 2 | Austria | 2002 | 306288.5 | 12.63228 | 21229.01 | 1884054 | 88.74902 | 4.485812 | 67.4 | ... | NA | 31.70 | 70 |   NA | 86.4 | 78.20000 | 79.6 | 70 | 70 | 73.20000 |\n",
       "| Austria-2003 | 3 | Austria | 2003 | 313908.3 | 12.65686 | 21376.20 | 1926565 | 90.12666 | 4.501216 | 67.6 | ... | NA | 31.95 | 70 |   NA | 85.1 | 77.55000 | 81.4 | 70 | 70 | 73.80000 |\n",
       "| Austria-2004 | 4 | Austria | 2004 | 326475.0 | 12.69611 | 21625.92 | 1968064 | 91.00489 | 4.510913 | 67.6 | ... | NA | 32.25 | 70 |   NA | 85.9 | 77.95000 | 79.8 | 70 | 70 | 73.26667 |\n",
       "| Austria-2005 | 5 | Austria | 2005 | 357373.0 | 12.78654 | 21652.46 | 2008219 | 92.74784 | 4.529884 | 68.8 | ... | NA | 33.50 | 70 | 73.6 | 87.0 | 76.86667 | 80.2 | 70 | 70 | 73.40000 |\n",
       "\n"
      ],
      "text/plain": [
       "             Index country year rgdpo    Lnrgdpo  labor_stock capital_stock\n",
       "Austria-2000 0     Austria 2000 306927.6 12.63437 21077.29    1798700      \n",
       "Austria-2001 1     Austria 2001 299963.1 12.61141 21178.49    1844588      \n",
       "Austria-2002 2     Austria 2002 306288.5 12.63228 21229.01    1884054      \n",
       "Austria-2003 3     Austria 2003 313908.3 12.65686 21376.20    1926565      \n",
       "Austria-2004 4     Austria 2004 326475.0 12.69611 21625.92    1968064      \n",
       "Austria-2005 5     Austria 2005 357373.0 12.78654 21652.46    2008219      \n",
       "             capital_labor_ratio Lncap_lab_ratio Overall_Score ...\n",
       "Austria-2000 85.33829            4.446623        68.4          ...\n",
       "Austria-2001 87.09725            4.467025        68.1          ...\n",
       "Austria-2002 88.74902            4.485812        67.4          ...\n",
       "Austria-2003 90.12666            4.501216        67.6          ...\n",
       "Austria-2004 91.00489            4.510913        67.6          ...\n",
       "Austria-2005 92.74784            4.529884        68.8          ...\n",
       "             Fiscal_Health Government_size Business_Freedom Labor_Freedom\n",
       "Austria-2000 NA            34.60           70                 NA         \n",
       "Austria-2001 NA            34.60           70                 NA         \n",
       "Austria-2002 NA            31.70           70                 NA         \n",
       "Austria-2003 NA            31.95           70                 NA         \n",
       "Austria-2004 NA            32.25           70                 NA         \n",
       "Austria-2005 NA            33.50           70               73.6         \n",
       "             Monetary_Freedom Regulatory_efficiency Trade_Freedom\n",
       "Austria-2000 88.4             79.20000              83.0         \n",
       "Austria-2001 89.6             79.80000              78.0         \n",
       "Austria-2002 86.4             78.20000              79.6         \n",
       "Austria-2003 85.1             77.55000              81.4         \n",
       "Austria-2004 85.9             77.95000              79.8         \n",
       "Austria-2005 87.0             76.86667              80.2         \n",
       "             Investment_Freedom Financial_Freedom Market_openness\n",
       "Austria-2000 70                 70                74.33333       \n",
       "Austria-2001 70                 70                72.66667       \n",
       "Austria-2002 70                 70                73.20000       \n",
       "Austria-2003 70                 70                73.80000       \n",
       "Austria-2004 70                 70                73.26667       \n",
       "Austria-2005 70                 70                73.40000       "
      ]
     },
     "metadata": {},
     "output_type": "display_data"
    }
   ],
   "source": [
    "data <- read.csv(\"df_disaggregated.csv\")\n",
    "pdata <- pdata.frame(data , index = c(\"country\" , \"year\"))\n",
    "head(pdata)"
   ]
  },
  {
   "cell_type": "code",
   "execution_count": 3,
   "metadata": {
    "vscode": {
     "languageId": "r"
    }
   },
   "outputs": [],
   "source": [
    "# Selected variabes for the ratio model\n",
    "selected_vars <- pdata[, c(\"Lnrgdpo\" , \"Lncap_lab_ratio\" , \"Rule_of_law\" , \"Government_size\" , \"Regulatory_efficiency\" , \"Market_openness\")]"
   ]
  },
  {
   "cell_type": "code",
   "execution_count": 4,
   "metadata": {
    "vscode": {
     "languageId": "r"
    }
   },
   "outputs": [
    {
     "data": {
      "text/plain": [
       "    Lnrgdpo       Lncap_lab_ratio  Rule_of_law    Government_size\n",
       " Min.   : 9.102   Min.   :2.168   Min.   :28.00   Min.   :15.25  \n",
       " 1st Qu.:11.112   1st Qu.:3.731   1st Qu.:53.55   1st Qu.:42.75  \n",
       " Median :12.482   Median :4.386   Median :68.00   Median :52.75  \n",
       " Mean   :12.269   Mean   :4.158   Mean   :67.92   Mean   :52.74  \n",
       " 3rd Qu.:13.092   3rd Qu.:4.565   3rd Qu.:85.01   3rd Qu.:65.11  \n",
       " Max.   :15.268   Max.   :4.873   Max.   :95.00   Max.   :84.30  \n",
       " Regulatory_efficiency Market_openness\n",
       " Min.   :27.50         Min.   :45.87  \n",
       " 1st Qu.:70.08         1st Qu.:70.32  \n",
       " Median :74.23         Median :75.03  \n",
       " Mean   :74.15         Mean   :75.17  \n",
       " 3rd Qu.:77.97         3rd Qu.:81.93  \n",
       " Max.   :95.46         Max.   :89.27  "
      ]
     },
     "metadata": {},
     "output_type": "display_data"
    }
   ],
   "source": [
    "summary(selected_vars)"
   ]
  },
  {
   "cell_type": "code",
   "execution_count": 5,
   "metadata": {
    "vscode": {
     "languageId": "r"
    }
   },
   "outputs": [
    {
     "name": "stdout",
     "output_type": "stream",
     "text": [
      "                           Lnrgdpo Lncap_lab_ratio Rule_of_law Government_size\n",
      "Lnrgdpo                1.000000000       0.2670060   0.1139388    -0.365094572\n",
      "Lncap_lab_ratio        0.267005960       1.0000000   0.6183436    -0.479975618\n",
      "Rule_of_law            0.113938839       0.6183436   1.0000000    -0.425313444\n",
      "Government_size       -0.365094572      -0.4799756  -0.4253134     1.000000000\n",
      "Regulatory_efficiency  0.006255563       0.3800054   0.5451785    -0.218660571\n",
      "Market_openness        0.090852262       0.3000603   0.5222963    -0.003266056\n",
      "                      Regulatory_efficiency Market_openness\n",
      "Lnrgdpo                         0.006255563     0.090852262\n",
      "Lncap_lab_ratio                 0.380005399     0.300060321\n",
      "Rule_of_law                     0.545178467     0.522296287\n",
      "Government_size                -0.218660571    -0.003266056\n",
      "Regulatory_efficiency           1.000000000     0.379515218\n",
      "Market_openness                 0.379515218     1.000000000\n"
     ]
    }
   ],
   "source": [
    "# Ratio model\n",
    "correlation_matrix <- cor(selected_vars)\n",
    "print(correlation_matrix)"
   ]
  },
  {
   "cell_type": "code",
   "execution_count": 16,
   "metadata": {
    "vscode": {
     "languageId": "r"
    }
   },
   "outputs": [],
   "source": [
    "# Two-way FE model\n",
    "FE <- plm(Lnrgdpo ~ Lncap_lab_ratio + Rule_of_law + Government_size + Regulatory_efficiency + Market_openness ,\n",
    "        data = pdata , \n",
    "        model = \"within\" , \n",
    "        effect=\"twoways\")"
   ]
  },
  {
   "cell_type": "code",
   "execution_count": 17,
   "metadata": {
    "vscode": {
     "languageId": "r"
    }
   },
   "outputs": [
    {
     "data": {
      "text/plain": [
       "Twoways effects Within Model\n",
       "\n",
       "Note: Coefficient variance-covariance matrix supplied: vcovSCC\n",
       "\n",
       "Call:\n",
       "plm(formula = Lnrgdpo ~ Lncap_lab_ratio + Rule_of_law + Government_size + \n",
       "    Regulatory_efficiency + Market_openness, data = pdata, effect = \"twoways\", \n",
       "    model = \"within\")\n",
       "\n",
       "Balanced Panel: n = 30, T = 20, N = 600\n",
       "\n",
       "Residuals:\n",
       "       Min.     1st Qu.      Median     3rd Qu.        Max. \n",
       "-0.24600030 -0.04801366  0.00056883  0.04127424  0.33386717 \n",
       "\n",
       "Coefficients:\n",
       "                         Estimate  Std. Error t-value  Pr(>|t|)    \n",
       "Lncap_lab_ratio        0.32866403  0.11354004  2.8947  0.003947 ** \n",
       "Rule_of_law            0.00337086  0.00131782  2.5579  0.010799 *  \n",
       "Government_size        0.00450203  0.00033826 13.3095 < 2.2e-16 ***\n",
       "Regulatory_efficiency  0.00012623  0.00125457  0.1006  0.919890    \n",
       "Market_openness       -0.00100130  0.00058904 -1.6999  0.089723 .  \n",
       "---\n",
       "Signif. codes:  0 '***' 0.001 '**' 0.01 '*' 0.05 '.' 0.1 ' ' 1\n",
       "\n",
       "Total Sum of Squares:    4.6764\n",
       "Residual Sum of Squares: 3.7007\n",
       "R-Squared:      0.20863\n",
       "Adj. R-Squared: 0.13181\n",
       "F-statistic: 187.545 on 5 and 19 DF, p-value: 1.746e-15"
      ]
     },
     "metadata": {},
     "output_type": "display_data"
    }
   ],
   "source": [
    "summary(FE , vcov = vcovSCC)"
   ]
  },
  {
   "cell_type": "code",
   "execution_count": 18,
   "metadata": {
    "vscode": {
     "languageId": "r"
    }
   },
   "outputs": [],
   "source": [
    "# Pooled common correlated effects model\n",
    "CCE_P <- pcce(Lnrgdpo ~ Lncap_lab_ratio + Rule_of_law + Government_size + Regulatory_efficiency + Market_openness ,\n",
    "        data = pdata ,\n",
    "        model = \"p\")"
   ]
  },
  {
   "cell_type": "code",
   "execution_count": 19,
   "metadata": {
    "vscode": {
     "languageId": "r"
    }
   },
   "outputs": [
    {
     "data": {
      "text/plain": [
       "Common Correlated Effects Pooled model\n",
       "\n",
       "Note: Coefficient variance-covariance matrix supplied: vcovSCC\n",
       "\n",
       "Call:\n",
       "pcce(formula = Lnrgdpo ~ Lncap_lab_ratio + Rule_of_law + Government_size + \n",
       "    Regulatory_efficiency + Market_openness, data = pdata, model = \"p\")\n",
       "\n",
       "Balanced Panel: n = 30, T = 20, N = 600\n",
       "\n",
       "Residuals:\n",
       "         Min.       1st Qu.        Median       3rd Qu.          Max. \n",
       "-0.2287678183 -0.0157088855 -0.0005209465  0.0160474464  0.2050345142 \n",
       "\n",
       "Coefficients:\n",
       "                         Estimate  Std. Error z-value  Pr(>|z|)    \n",
       "Lncap_lab_ratio       -0.38716413  0.07981457 -4.8508 1.230e-06 ***\n",
       "Rule_of_law           -0.00117544  0.00028128 -4.1789 2.929e-05 ***\n",
       "Government_size        0.00252072  0.00064882  3.8851 0.0001023 ***\n",
       "Regulatory_efficiency -0.00035535  0.00052172 -0.6811 0.4958034    \n",
       "Market_openness        0.00099662  0.00044237  2.2529 0.0242633 *  \n",
       "---\n",
       "Signif. codes:  0 '***' 0.001 '**' 0.01 '*' 0.05 '.' 0.1 ' ' 1\n",
       "Total Sum of Squares: 1319.8\n",
       "Residual Sum of Squares: 0.92661\n",
       "HPY R-squared: 0.93067"
      ]
     },
     "metadata": {},
     "output_type": "display_data"
    }
   ],
   "source": [
    "summary(CCE_P , vcov = vcovSCC)"
   ]
  },
  {
   "cell_type": "code",
   "execution_count": 20,
   "metadata": {
    "vscode": {
     "languageId": "r"
    }
   },
   "outputs": [],
   "source": [
    "# Mean groups common correlated effects model\n",
    "CCE_MG <- pcce(Lnrgdpo ~ Lncap_lab_ratio + Rule_of_law + Government_size + Regulatory_efficiency + Market_openness ,\n",
    "        data = pdata ,\n",
    "        model = \"mg\")"
   ]
  },
  {
   "cell_type": "code",
   "execution_count": 21,
   "metadata": {
    "vscode": {
     "languageId": "r"
    }
   },
   "outputs": [
    {
     "data": {
      "text/plain": [
       "Common Correlated Effects Mean Groups model\n",
       "\n",
       "Note: Coefficient variance-covariance matrix supplied: vcovSCC\n",
       "\n",
       "Call:\n",
       "pcce(formula = Lnrgdpo ~ Lncap_lab_ratio + Rule_of_law + Government_size + \n",
       "    Regulatory_efficiency + Market_openness, data = pdata, model = \"mg\")\n",
       "\n",
       "Balanced Panel: n = 30, T = 20, N = 600\n",
       "\n",
       "Residuals:\n",
       "         Min.       1st Qu.        Median       3rd Qu.          Max. \n",
       "-0.0889382760 -0.0084416233 -0.0001609536  0.0087265020  0.1099561093 \n",
       "\n",
       "Coefficients:\n",
       "                         Estimate  Std. Error  z-value  Pr(>|z|)    \n",
       "Lncap_lab_ratio       -0.71557322  0.04035374 -17.7325 < 2.2e-16 ***\n",
       "Rule_of_law           -0.00331784  0.00020322 -16.3266 < 2.2e-16 ***\n",
       "Government_size        0.00069537  0.00030974   2.2451   0.02476 *  \n",
       "Regulatory_efficiency -0.00173433  0.00030718  -5.6460 1.642e-08 ***\n",
       "Market_openness       -0.00024159  0.00028466  -0.8487   0.39607    \n",
       "---\n",
       "Signif. codes:  0 '***' 0.001 '**' 0.01 '*' 0.05 '.' 0.1 ' ' 1\n",
       "Total Sum of Squares: 1319.8\n",
       "Residual Sum of Squares: 0.21383\n",
       "HPY R-squared: 0.97433"
      ]
     },
     "metadata": {},
     "output_type": "display_data"
    }
   ],
   "source": [
    "summary(CCE_MG , vcov = vcovSCC)"
   ]
  },
  {
   "cell_type": "code",
   "execution_count": 23,
   "metadata": {
    "vscode": {
     "languageId": "r"
    }
   },
   "outputs": [
    {
     "data": {
      "text/plain": [
       "\n",
       "\tstudentized Breusch-Pagan test\n",
       "\n",
       "data:  FE\n",
       "BP = 59.029, df = 5, p-value = 1.929e-11\n"
      ]
     },
     "metadata": {},
     "output_type": "display_data"
    }
   ],
   "source": [
    "# Breusch-Pagan test\n",
    "bptest(FE)"
   ]
  },
  {
   "cell_type": "code",
   "execution_count": 24,
   "metadata": {
    "vscode": {
     "languageId": "r"
    }
   },
   "outputs": [
    {
     "data": {
      "text/plain": [
       "\n",
       "\tBreusch-Godfrey/Wooldridge test for serial correlation in panel models\n",
       "\n",
       "data:  Lnrgdpo ~ Lncap_lab_ratio + Rule_of_law + Government_size + Regulatory_efficiency +  ...\n",
       "chisq = 409.86, df = 20, p-value < 2.2e-16\n",
       "alternative hypothesis: serial correlation in idiosyncratic errors\n"
      ]
     },
     "metadata": {},
     "output_type": "display_data"
    }
   ],
   "source": [
    "# Breusch-Godfrey/Wooldridge test for serial correlation in panel models\n",
    "pbgtest(FE)"
   ]
  },
  {
   "cell_type": "code",
   "execution_count": 25,
   "metadata": {
    "vscode": {
     "languageId": "r"
    }
   },
   "outputs": [
    {
     "data": {
      "text/plain": [
       "\n",
       "\tPesaran CD test for cross-sectional dependence in panels\n",
       "\n",
       "data:  Lnrgdpo ~ Lncap_lab_ratio + Rule_of_law + Government_size + Regulatory_efficiency +     Market_openness\n",
       "z = -2.1061, p-value = 0.0352\n",
       "alternative hypothesis: cross-sectional dependence\n"
      ]
     },
     "metadata": {},
     "output_type": "display_data"
    }
   ],
   "source": [
    "# Pesaran's CD test for cross-sectional dependence in panels\n",
    "pcdtest(FE , test = \"cd\")"
   ]
  }
 ],
 "metadata": {
  "kernelspec": {
   "display_name": "R",
   "language": "R",
   "name": "ir"
  },
  "language_info": {
   "codemirror_mode": "r",
   "file_extension": ".r",
   "mimetype": "text/x-r-source",
   "name": "R",
   "pygments_lexer": "r",
   "version": "4.3.3"
  }
 },
 "nbformat": 4,
 "nbformat_minor": 2
}
