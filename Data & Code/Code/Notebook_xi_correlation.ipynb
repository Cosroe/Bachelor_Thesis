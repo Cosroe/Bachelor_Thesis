{
 "cells": [
  {
   "cell_type": "code",
   "execution_count": null,
   "metadata": {},
   "outputs": [],
   "source": [
    "import numpy as np\n",
    "from scipy.stats import rankdata, norm\n",
    "\n",
    "\n",
    "def xicor(x, y, ties=\"auto\"):\n",
    "    x = np.asarray(x).flatten()\n",
    "    y = np.asarray(y).flatten()\n",
    "    n = len(y)\n",
    "\n",
    "    if len(x) != n:\n",
    "        raise IndexError(\n",
    "            f\"x, y length mismatch: {len(x)}, {len(y)}\"\n",
    "        )\n",
    "\n",
    "    if ties == \"auto\":\n",
    "        ties = len(np.unique(y)) < n\n",
    "    elif not isinstance(ties, bool):\n",
    "        raise ValueError(\n",
    "            f\"expected ties either \\\"auto\\\" or boolean, \"\n",
    "            f\"got {ties} ({type(ties)}) instead\"\n",
    "        )\n",
    "    \n",
    "    y = y[np.argsort(x)]\n",
    "    r = rankdata(y, method=\"ordinal\")\n",
    "    nominator = np.sum(np.abs(np.diff(r)))\n",
    "\n",
    "    if ties:\n",
    "        l = rankdata(y, method=\"max\")\n",
    "        denominator = 2 * np.sum(l * (n - l))\n",
    "        nominator *= n\n",
    "    else:\n",
    "        denominator = np.power(n, 2) - 1\n",
    "        nominator *= 3\n",
    "\n",
    "    statistic = 1 - nominator / denominator  # upper bound is (n - 2) / (n + 1)\n",
    "    p_value = norm.sf(statistic, scale=2 / 5 / np.sqrt(n))\n",
    "\n",
    "    return statistic, p_value"
   ]
  }
 ],
 "metadata": {
  "language_info": {
   "name": "python"
  }
 },
 "nbformat": 4,
 "nbformat_minor": 2
}
