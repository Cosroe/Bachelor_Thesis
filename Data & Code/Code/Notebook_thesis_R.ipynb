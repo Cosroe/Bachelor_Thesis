{
 "cells": [
  {
   "cell_type": "code",
   "execution_count": 1,
   "metadata": {
    "vscode": {
     "languageId": "r"
    }
   },
   "outputs": [
    {
     "name": "stderr",
     "output_type": "stream",
     "text": [
      "Lade n\"otiges Paket: zoo\n",
      "\n",
      "\n",
      "Attache Paket: 'zoo'\n",
      "\n",
      "\n",
      "Die folgenden Objekte sind maskiert von 'package:base':\n",
      "\n",
      "    as.Date, as.Date.numeric\n",
      "\n",
      "\n"
     ]
    }
   ],
   "source": [
    "library(plm)\n",
    "library(lmtest)\n",
    "library(sandwich)\n",
    "library(ggplot2)\n",
    "library(zoo)"
   ]
  },
  {
   "cell_type": "code",
   "execution_count": 2,
   "metadata": {
    "vscode": {
     "languageId": "r"
    }
   },
   "outputs": [],
   "source": [
    "data <- read.csv(\"DF_FINAL.csv\")"
   ]
  },
  {
   "cell_type": "code",
   "execution_count": 3,
   "metadata": {
    "vscode": {
     "languageId": "r"
    }
   },
   "outputs": [],
   "source": [
    "# Indexing based on country and year\n",
    "pdata <- pdata.frame(data, index = c(\"country\" , \"year\"))"
   ]
  },
  {
   "cell_type": "code",
   "execution_count": 4,
   "metadata": {
    "vscode": {
     "languageId": "r"
    }
   },
   "outputs": [
    {
     "data": {
      "text/html": [
       "<table class=\"dataframe\">\n",
       "<caption>A pdata.frame: 6 x 14</caption>\n",
       "<thead>\n",
       "\t<tr><th></th><th scope=col>Index</th><th scope=col>country</th><th scope=col>year</th><th scope=col>Lnrgdpo</th><th scope=col>Lnlabor_stock</th><th scope=col>Lncapital_stock</th><th scope=col>RL</th><th scope=col>GS</th><th scope=col>RE</th><th scope=col>MO</th><th scope=col>LnRL</th><th scope=col>LnGS</th><th scope=col>LnRE</th><th scope=col>LnMO</th></tr>\n",
       "\t<tr><th></th><th scope=col>&lt;int&gt;</th><th scope=col>&lt;fct&gt;</th><th scope=col>&lt;fct&gt;</th><th scope=col>&lt;dbl&gt;</th><th scope=col>&lt;dbl&gt;</th><th scope=col>&lt;dbl&gt;</th><th scope=col>&lt;dbl&gt;</th><th scope=col>&lt;dbl&gt;</th><th scope=col>&lt;dbl&gt;</th><th scope=col>&lt;dbl&gt;</th><th scope=col>&lt;dbl&gt;</th><th scope=col>&lt;dbl&gt;</th><th scope=col>&lt;dbl&gt;</th><th scope=col>&lt;dbl&gt;</th></tr>\n",
       "</thead>\n",
       "<tbody>\n",
       "\t<tr><th scope=row>Austria-2000</th><td>0</td><td>Austria</td><td>2000</td><td>12.63437</td><td>9.955952</td><td>14.40257</td><td>82.5</td><td>34.60</td><td>79.20000</td><td>74.33333</td><td>4.412798</td><td>3.543854</td><td>4.371976</td><td>4.308559</td></tr>\n",
       "\t<tr><th scope=row>Austria-2001</th><td>1</td><td>Austria</td><td>2001</td><td>12.61141</td><td>9.960741</td><td>14.42777</td><td>83.0</td><td>34.60</td><td>79.80000</td><td>72.66667</td><td>4.418841</td><td>3.543854</td><td>4.379524</td><td>4.285883</td></tr>\n",
       "\t<tr><th scope=row>Austria-2002</th><td>2</td><td>Austria</td><td>2002</td><td>12.63228</td><td>9.963124</td><td>14.44894</td><td>83.5</td><td>31.70</td><td>78.20000</td><td>73.20000</td><td>4.424847</td><td>3.456317</td><td>4.359270</td><td>4.293195</td></tr>\n",
       "\t<tr><th scope=row>Austria-2003</th><td>3</td><td>Austria</td><td>2003</td><td>12.65686</td><td>9.970033</td><td>14.47125</td><td>84.0</td><td>31.95</td><td>77.55000</td><td>73.80000</td><td>4.430817</td><td>3.464172</td><td>4.350923</td><td>4.301359</td></tr>\n",
       "\t<tr><th scope=row>Austria-2004</th><td>4</td><td>Austria</td><td>2004</td><td>12.69611</td><td>9.981648</td><td>14.49256</td><td>84.0</td><td>32.25</td><td>77.95000</td><td>73.26667</td><td>4.430817</td><td>3.473518</td><td>4.356068</td><td>4.294106</td></tr>\n",
       "\t<tr><th scope=row>Austria-2005</th><td>5</td><td>Austria</td><td>2005</td><td>12.78654</td><td>9.982874</td><td>14.51276</td><td>85.0</td><td>33.50</td><td>76.86667</td><td>73.40000</td><td>4.442651</td><td>3.511545</td><td>4.342072</td><td>4.295924</td></tr>\n",
       "</tbody>\n",
       "</table>\n"
      ],
      "text/latex": [
       "A pdata.frame: 6 x 14\n",
       "\\begin{tabular}{r|llllllllllllll}\n",
       "  & Index & country & year & Lnrgdpo & Lnlabor\\_stock & Lncapital\\_stock & RL & GS & RE & MO & LnRL & LnGS & LnRE & LnMO\\\\\n",
       "  & <int> & <fct> & <fct> & <dbl> & <dbl> & <dbl> & <dbl> & <dbl> & <dbl> & <dbl> & <dbl> & <dbl> & <dbl> & <dbl>\\\\\n",
       "\\hline\n",
       "\tAustria-2000 & 0 & Austria & 2000 & 12.63437 & 9.955952 & 14.40257 & 82.5 & 34.60 & 79.20000 & 74.33333 & 4.412798 & 3.543854 & 4.371976 & 4.308559\\\\\n",
       "\tAustria-2001 & 1 & Austria & 2001 & 12.61141 & 9.960741 & 14.42777 & 83.0 & 34.60 & 79.80000 & 72.66667 & 4.418841 & 3.543854 & 4.379524 & 4.285883\\\\\n",
       "\tAustria-2002 & 2 & Austria & 2002 & 12.63228 & 9.963124 & 14.44894 & 83.5 & 31.70 & 78.20000 & 73.20000 & 4.424847 & 3.456317 & 4.359270 & 4.293195\\\\\n",
       "\tAustria-2003 & 3 & Austria & 2003 & 12.65686 & 9.970033 & 14.47125 & 84.0 & 31.95 & 77.55000 & 73.80000 & 4.430817 & 3.464172 & 4.350923 & 4.301359\\\\\n",
       "\tAustria-2004 & 4 & Austria & 2004 & 12.69611 & 9.981648 & 14.49256 & 84.0 & 32.25 & 77.95000 & 73.26667 & 4.430817 & 3.473518 & 4.356068 & 4.294106\\\\\n",
       "\tAustria-2005 & 5 & Austria & 2005 & 12.78654 & 9.982874 & 14.51276 & 85.0 & 33.50 & 76.86667 & 73.40000 & 4.442651 & 3.511545 & 4.342072 & 4.295924\\\\\n",
       "\\end{tabular}\n"
      ],
      "text/markdown": [
       "\n",
       "A pdata.frame: 6 x 14\n",
       "\n",
       "| <!--/--> | Index &lt;int&gt; | country &lt;fct&gt; | year &lt;fct&gt; | Lnrgdpo &lt;dbl&gt; | Lnlabor_stock &lt;dbl&gt; | Lncapital_stock &lt;dbl&gt; | RL &lt;dbl&gt; | GS &lt;dbl&gt; | RE &lt;dbl&gt; | MO &lt;dbl&gt; | LnRL &lt;dbl&gt; | LnGS &lt;dbl&gt; | LnRE &lt;dbl&gt; | LnMO &lt;dbl&gt; |\n",
       "|---|---|---|---|---|---|---|---|---|---|---|---|---|---|---|\n",
       "| Austria-2000 | 0 | Austria | 2000 | 12.63437 | 9.955952 | 14.40257 | 82.5 | 34.60 | 79.20000 | 74.33333 | 4.412798 | 3.543854 | 4.371976 | 4.308559 |\n",
       "| Austria-2001 | 1 | Austria | 2001 | 12.61141 | 9.960741 | 14.42777 | 83.0 | 34.60 | 79.80000 | 72.66667 | 4.418841 | 3.543854 | 4.379524 | 4.285883 |\n",
       "| Austria-2002 | 2 | Austria | 2002 | 12.63228 | 9.963124 | 14.44894 | 83.5 | 31.70 | 78.20000 | 73.20000 | 4.424847 | 3.456317 | 4.359270 | 4.293195 |\n",
       "| Austria-2003 | 3 | Austria | 2003 | 12.65686 | 9.970033 | 14.47125 | 84.0 | 31.95 | 77.55000 | 73.80000 | 4.430817 | 3.464172 | 4.350923 | 4.301359 |\n",
       "| Austria-2004 | 4 | Austria | 2004 | 12.69611 | 9.981648 | 14.49256 | 84.0 | 32.25 | 77.95000 | 73.26667 | 4.430817 | 3.473518 | 4.356068 | 4.294106 |\n",
       "| Austria-2005 | 5 | Austria | 2005 | 12.78654 | 9.982874 | 14.51276 | 85.0 | 33.50 | 76.86667 | 73.40000 | 4.442651 | 3.511545 | 4.342072 | 4.295924 |\n",
       "\n"
      ],
      "text/plain": [
       "             Index country year Lnrgdpo  Lnlabor_stock Lncapital_stock RL  \n",
       "Austria-2000 0     Austria 2000 12.63437 9.955952      14.40257        82.5\n",
       "Austria-2001 1     Austria 2001 12.61141 9.960741      14.42777        83.0\n",
       "Austria-2002 2     Austria 2002 12.63228 9.963124      14.44894        83.5\n",
       "Austria-2003 3     Austria 2003 12.65686 9.970033      14.47125        84.0\n",
       "Austria-2004 4     Austria 2004 12.69611 9.981648      14.49256        84.0\n",
       "Austria-2005 5     Austria 2005 12.78654 9.982874      14.51276        85.0\n",
       "             GS    RE       MO       LnRL     LnGS     LnRE     LnMO    \n",
       "Austria-2000 34.60 79.20000 74.33333 4.412798 3.543854 4.371976 4.308559\n",
       "Austria-2001 34.60 79.80000 72.66667 4.418841 3.543854 4.379524 4.285883\n",
       "Austria-2002 31.70 78.20000 73.20000 4.424847 3.456317 4.359270 4.293195\n",
       "Austria-2003 31.95 77.55000 73.80000 4.430817 3.464172 4.350923 4.301359\n",
       "Austria-2004 32.25 77.95000 73.26667 4.430817 3.473518 4.356068 4.294106\n",
       "Austria-2005 33.50 76.86667 73.40000 4.442651 3.511545 4.342072 4.295924"
      ]
     },
     "metadata": {},
     "output_type": "display_data"
    }
   ],
   "source": [
    "head(pdata)"
   ]
  },
  {
   "cell_type": "markdown",
   "metadata": {},
   "source": [
    "---\n",
    "# **Formal tests**"
   ]
  },
  {
   "cell_type": "code",
   "execution_count": 5,
   "metadata": {
    "vscode": {
     "languageId": "r"
    }
   },
   "outputs": [],
   "source": [
    "# Estimating the pooled and random-effects models\n",
    "Pooled <- plm(Lnrgdpo ~ Lnlabor_stock + Lncapital_stock + RL + GS + RE + MO, data = pdata, model = \"pooling\")\n",
    "RE <- plm(Lnrgdpo ~ Lnlabor_stock + Lncapital_stock + RL + GS + RE + MO, data = pdata, model = \"random\")"
   ]
  },
  {
   "cell_type": "markdown",
   "metadata": {},
   "source": [
    "### Breusch-Pagan test for homoskedasticity"
   ]
  },
  {
   "cell_type": "code",
   "execution_count": 6,
   "metadata": {
    "vscode": {
     "languageId": "r"
    }
   },
   "outputs": [
    {
     "data": {
      "text/plain": [
       "\n",
       "\tstudentized Breusch-Pagan test\n",
       "\n",
       "data:  Pooled\n",
       "BP = 41.8, df = 6, p-value = 2.013e-07\n"
      ]
     },
     "metadata": {},
     "output_type": "display_data"
    }
   ],
   "source": [
    "# Breusch-Pagan test for homoskedasticity\n",
    "bptest(Pooled)"
   ]
  },
  {
   "cell_type": "markdown",
   "metadata": {},
   "source": [
    "### Breusch-Godfrey test for serial correlation"
   ]
  },
  {
   "cell_type": "code",
   "execution_count": 7,
   "metadata": {
    "vscode": {
     "languageId": "r"
    }
   },
   "outputs": [
    {
     "data": {
      "text/plain": [
       "\n",
       "\tBreusch-Godfrey/Wooldridge test for serial correlation in panel models\n",
       "\n",
       "data:  Lnrgdpo ~ Lnlabor_stock + Lncapital_stock + RL + GS + RE + MO\n",
       "chisq = 479.32, df = 20, p-value < 2.2e-16\n",
       "alternative hypothesis: serial correlation in idiosyncratic errors\n"
      ]
     },
     "metadata": {},
     "output_type": "display_data"
    }
   ],
   "source": [
    "# Breusch-Godfrey/Wooldridge test for serial correlation\n",
    "pbgtest(Pooled)"
   ]
  },
  {
   "cell_type": "markdown",
   "metadata": {},
   "source": [
    "### Pesaran's CD test for cross-sectional dependence"
   ]
  },
  {
   "cell_type": "code",
   "execution_count": 8,
   "metadata": {
    "vscode": {
     "languageId": "r"
    }
   },
   "outputs": [
    {
     "data": {
      "text/plain": [
       "\n",
       "\tPesaran CD test for cross-sectional dependence in panels\n",
       "\n",
       "data:  Lnrgdpo ~ Lnlabor_stock + Lncapital_stock + RL + GS + RE + MO\n",
       "z = 34.211, p-value < 2.2e-16\n",
       "alternative hypothesis: cross-sectional dependence\n"
      ]
     },
     "metadata": {},
     "output_type": "display_data"
    }
   ],
   "source": [
    "# Pesaran's CD test for cross-sectional dependence\n",
    "pcdtest(Pooled , test = \"cd\")"
   ]
  },
  {
   "cell_type": "markdown",
   "metadata": {},
   "source": [
    "### Hausman test for RE/FE"
   ]
  },
  {
   "cell_type": "code",
   "execution_count": null,
   "metadata": {
    "vscode": {
     "languageId": "r"
    }
   },
   "outputs": [
    {
     "data": {
      "text/plain": [
       "\n",
       "\tRegression-based Hausman test, vcov: vcovSCC\n",
       "\n",
       "data:  form\n",
       "chisq = 127.2, df = 6, p-value < 2.2e-16\n",
       "alternative hypothesis: one model is inconsistent\n"
      ]
     },
     "metadata": {},
     "output_type": "display_data"
    }
   ],
   "source": [
    "# Robust Hausman test\n",
    "form <- Lnrgdpo ~ Lnlabor_stock + Lncapital_stock + RL + GS + RE + MO\n",
    "phtest(form , data = pdata , method = \"aux\" , vcov = vcovSCC)"
   ]
  },
  {
   "cell_type": "markdown",
   "metadata": {},
   "source": [
    "### Cross-sectionally augmented Im, Pesaran, and Shin (IPS) test for unit roots in panel models"
   ]
  },
  {
   "cell_type": "code",
   "execution_count": null,
   "metadata": {
    "vscode": {
     "languageId": "r"
    }
   },
   "outputs": [
    {
     "data": {
      "text/html": [
       "<table class=\"dataframe\">\n",
       "<caption>A pdata.frame: 6 x 21</caption>\n",
       "<thead>\n",
       "\t<tr><th></th><th scope=col>Index</th><th scope=col>country</th><th scope=col>year</th><th scope=col>Lnrgdpo</th><th scope=col>Lnlabor_stock</th><th scope=col>Lncapital_stock</th><th scope=col>RL</th><th scope=col>GS</th><th scope=col>RE</th><th scope=col>MO</th><th scope=col>...</th><th scope=col>LnGS</th><th scope=col>LnRE</th><th scope=col>LnMO</th><th scope=col>d_Lnrgdpo</th><th scope=col>d_Lnlabor_stock</th><th scope=col>d_Lncapital_stock</th><th scope=col>d_RL</th><th scope=col>d_GS</th><th scope=col>d_RE</th><th scope=col>d_MO</th></tr>\n",
       "\t<tr><th></th><th scope=col>&lt;int&gt;</th><th scope=col>&lt;fct&gt;</th><th scope=col>&lt;fct&gt;</th><th scope=col>&lt;dbl&gt;</th><th scope=col>&lt;dbl&gt;</th><th scope=col>&lt;dbl&gt;</th><th scope=col>&lt;dbl&gt;</th><th scope=col>&lt;dbl&gt;</th><th scope=col>&lt;dbl&gt;</th><th scope=col>&lt;dbl&gt;</th><th scope=col>...</th><th scope=col>&lt;dbl&gt;</th><th scope=col>&lt;dbl&gt;</th><th scope=col>&lt;dbl&gt;</th><th scope=col>&lt;dbl&gt;</th><th scope=col>&lt;dbl&gt;</th><th scope=col>&lt;dbl&gt;</th><th scope=col>&lt;dbl&gt;</th><th scope=col>&lt;dbl&gt;</th><th scope=col>&lt;dbl&gt;</th><th scope=col>&lt;dbl&gt;</th></tr>\n",
       "</thead>\n",
       "<tbody>\n",
       "\t<tr><th scope=row>Austria-2001</th><td>1</td><td>Austria</td><td>2001</td><td>12.61141</td><td>9.960741</td><td>14.42777</td><td>83.0</td><td>34.60</td><td>79.80000</td><td>72.66667</td><td>...</td><td>3.543854</td><td>4.379524</td><td>4.285883</td><td>-0.02295222</td><td>0.004789680</td><td>0.02519178</td><td>0.5</td><td> 0.00</td><td> 0.600000</td><td>-1.6666667</td></tr>\n",
       "\t<tr><th scope=row>Austria-2002</th><td>2</td><td>Austria</td><td>2002</td><td>12.63228</td><td>9.963124</td><td>14.44894</td><td>83.5</td><td>31.70</td><td>78.20000</td><td>73.20000</td><td>...</td><td>3.456317</td><td>4.359270</td><td>4.293195</td><td> 0.02086782</td><td>0.002382666</td><td>0.02116974</td><td>0.5</td><td>-2.90</td><td>-1.600000</td><td> 0.5333333</td></tr>\n",
       "\t<tr><th scope=row>Austria-2003</th><td>3</td><td>Austria</td><td>2003</td><td>12.65686</td><td>9.970033</td><td>14.47125</td><td>84.0</td><td>31.95</td><td>77.55000</td><td>73.80000</td><td>...</td><td>3.464172</td><td>4.350923</td><td>4.301359</td><td> 0.02457348</td><td>0.006909498</td><td>0.02231303</td><td>0.5</td><td> 0.25</td><td>-0.650000</td><td> 0.6000000</td></tr>\n",
       "\t<tr><th scope=row>Austria-2004</th><td>4</td><td>Austria</td><td>2004</td><td>12.69611</td><td>9.981648</td><td>14.49256</td><td>84.0</td><td>32.25</td><td>77.95000</td><td>73.26667</td><td>...</td><td>3.473518</td><td>4.356068</td><td>4.294106</td><td> 0.03925263</td><td>0.011614352</td><td>0.02131161</td><td>0.0</td><td> 0.30</td><td> 0.400000</td><td>-0.5333333</td></tr>\n",
       "\t<tr><th scope=row>Austria-2005</th><td>5</td><td>Austria</td><td>2005</td><td>12.78654</td><td>9.982874</td><td>14.51276</td><td>85.0</td><td>33.50</td><td>76.86667</td><td>73.40000</td><td>...</td><td>3.511545</td><td>4.342072</td><td>4.295924</td><td> 0.09042667</td><td>0.001226535</td><td>0.02019777</td><td>1.0</td><td> 1.25</td><td>-1.083333</td><td> 0.1333333</td></tr>\n",
       "\t<tr><th scope=row>Austria-2006</th><td>6</td><td>Austria</td><td>2006</td><td>12.80598</td><td>9.994661</td><td>14.53242</td><td>87.0</td><td>36.70</td><td>80.36667</td><td>74.13333</td><td>...</td><td>3.602777</td><td>4.386599</td><td>4.305865</td><td> 0.01944595</td><td>0.011787026</td><td>0.01965728</td><td>2.0</td><td> 3.20</td><td> 3.500000</td><td> 0.7333333</td></tr>\n",
       "</tbody>\n",
       "</table>\n"
      ],
      "text/latex": [
       "A pdata.frame: 6 x 21\n",
       "\\begin{tabular}{r|lllllllllllllllllllll}\n",
       "  & Index & country & year & Lnrgdpo & Lnlabor\\_stock & Lncapital\\_stock & RL & GS & RE & MO & ... & LnGS & LnRE & LnMO & d\\_Lnrgdpo & d\\_Lnlabor\\_stock & d\\_Lncapital\\_stock & d\\_RL & d\\_GS & d\\_RE & d\\_MO\\\\\n",
       "  & <int> & <fct> & <fct> & <dbl> & <dbl> & <dbl> & <dbl> & <dbl> & <dbl> & <dbl> & ... & <dbl> & <dbl> & <dbl> & <dbl> & <dbl> & <dbl> & <dbl> & <dbl> & <dbl> & <dbl>\\\\\n",
       "\\hline\n",
       "\tAustria-2001 & 1 & Austria & 2001 & 12.61141 & 9.960741 & 14.42777 & 83.0 & 34.60 & 79.80000 & 72.66667 & ... & 3.543854 & 4.379524 & 4.285883 & -0.02295222 & 0.004789680 & 0.02519178 & 0.5 &  0.00 &  0.600000 & -1.6666667\\\\\n",
       "\tAustria-2002 & 2 & Austria & 2002 & 12.63228 & 9.963124 & 14.44894 & 83.5 & 31.70 & 78.20000 & 73.20000 & ... & 3.456317 & 4.359270 & 4.293195 &  0.02086782 & 0.002382666 & 0.02116974 & 0.5 & -2.90 & -1.600000 &  0.5333333\\\\\n",
       "\tAustria-2003 & 3 & Austria & 2003 & 12.65686 & 9.970033 & 14.47125 & 84.0 & 31.95 & 77.55000 & 73.80000 & ... & 3.464172 & 4.350923 & 4.301359 &  0.02457348 & 0.006909498 & 0.02231303 & 0.5 &  0.25 & -0.650000 &  0.6000000\\\\\n",
       "\tAustria-2004 & 4 & Austria & 2004 & 12.69611 & 9.981648 & 14.49256 & 84.0 & 32.25 & 77.95000 & 73.26667 & ... & 3.473518 & 4.356068 & 4.294106 &  0.03925263 & 0.011614352 & 0.02131161 & 0.0 &  0.30 &  0.400000 & -0.5333333\\\\\n",
       "\tAustria-2005 & 5 & Austria & 2005 & 12.78654 & 9.982874 & 14.51276 & 85.0 & 33.50 & 76.86667 & 73.40000 & ... & 3.511545 & 4.342072 & 4.295924 &  0.09042667 & 0.001226535 & 0.02019777 & 1.0 &  1.25 & -1.083333 &  0.1333333\\\\\n",
       "\tAustria-2006 & 6 & Austria & 2006 & 12.80598 & 9.994661 & 14.53242 & 87.0 & 36.70 & 80.36667 & 74.13333 & ... & 3.602777 & 4.386599 & 4.305865 &  0.01944595 & 0.011787026 & 0.01965728 & 2.0 &  3.20 &  3.500000 &  0.7333333\\\\\n",
       "\\end{tabular}\n"
      ],
      "text/markdown": [
       "\n",
       "A pdata.frame: 6 x 21\n",
       "\n",
       "| <!--/--> | Index &lt;int&gt; | country &lt;fct&gt; | year &lt;fct&gt; | Lnrgdpo &lt;dbl&gt; | Lnlabor_stock &lt;dbl&gt; | Lncapital_stock &lt;dbl&gt; | RL &lt;dbl&gt; | GS &lt;dbl&gt; | RE &lt;dbl&gt; | MO &lt;dbl&gt; | ... ... | LnGS &lt;dbl&gt; | LnRE &lt;dbl&gt; | LnMO &lt;dbl&gt; | d_Lnrgdpo &lt;dbl&gt; | d_Lnlabor_stock &lt;dbl&gt; | d_Lncapital_stock &lt;dbl&gt; | d_RL &lt;dbl&gt; | d_GS &lt;dbl&gt; | d_RE &lt;dbl&gt; | d_MO &lt;dbl&gt; |\n",
       "|---|---|---|---|---|---|---|---|---|---|---|---|---|---|---|---|---|---|---|---|---|---|\n",
       "| Austria-2001 | 1 | Austria | 2001 | 12.61141 | 9.960741 | 14.42777 | 83.0 | 34.60 | 79.80000 | 72.66667 | ... | 3.543854 | 4.379524 | 4.285883 | -0.02295222 | 0.004789680 | 0.02519178 | 0.5 |  0.00 |  0.600000 | -1.6666667 |\n",
       "| Austria-2002 | 2 | Austria | 2002 | 12.63228 | 9.963124 | 14.44894 | 83.5 | 31.70 | 78.20000 | 73.20000 | ... | 3.456317 | 4.359270 | 4.293195 |  0.02086782 | 0.002382666 | 0.02116974 | 0.5 | -2.90 | -1.600000 |  0.5333333 |\n",
       "| Austria-2003 | 3 | Austria | 2003 | 12.65686 | 9.970033 | 14.47125 | 84.0 | 31.95 | 77.55000 | 73.80000 | ... | 3.464172 | 4.350923 | 4.301359 |  0.02457348 | 0.006909498 | 0.02231303 | 0.5 |  0.25 | -0.650000 |  0.6000000 |\n",
       "| Austria-2004 | 4 | Austria | 2004 | 12.69611 | 9.981648 | 14.49256 | 84.0 | 32.25 | 77.95000 | 73.26667 | ... | 3.473518 | 4.356068 | 4.294106 |  0.03925263 | 0.011614352 | 0.02131161 | 0.0 |  0.30 |  0.400000 | -0.5333333 |\n",
       "| Austria-2005 | 5 | Austria | 2005 | 12.78654 | 9.982874 | 14.51276 | 85.0 | 33.50 | 76.86667 | 73.40000 | ... | 3.511545 | 4.342072 | 4.295924 |  0.09042667 | 0.001226535 | 0.02019777 | 1.0 |  1.25 | -1.083333 |  0.1333333 |\n",
       "| Austria-2006 | 6 | Austria | 2006 | 12.80598 | 9.994661 | 14.53242 | 87.0 | 36.70 | 80.36667 | 74.13333 | ... | 3.602777 | 4.386599 | 4.305865 |  0.01944595 | 0.011787026 | 0.01965728 | 2.0 |  3.20 |  3.500000 |  0.7333333 |\n",
       "\n"
      ],
      "text/plain": [
       "             Index country year Lnrgdpo  Lnlabor_stock Lncapital_stock RL  \n",
       "Austria-2001 1     Austria 2001 12.61141 9.960741      14.42777        83.0\n",
       "Austria-2002 2     Austria 2002 12.63228 9.963124      14.44894        83.5\n",
       "Austria-2003 3     Austria 2003 12.65686 9.970033      14.47125        84.0\n",
       "Austria-2004 4     Austria 2004 12.69611 9.981648      14.49256        84.0\n",
       "Austria-2005 5     Austria 2005 12.78654 9.982874      14.51276        85.0\n",
       "Austria-2006 6     Austria 2006 12.80598 9.994661      14.53242        87.0\n",
       "             GS    RE       MO       ... LnGS     LnRE     LnMO     d_Lnrgdpo  \n",
       "Austria-2001 34.60 79.80000 72.66667 ... 3.543854 4.379524 4.285883 -0.02295222\n",
       "Austria-2002 31.70 78.20000 73.20000 ... 3.456317 4.359270 4.293195  0.02086782\n",
       "Austria-2003 31.95 77.55000 73.80000 ... 3.464172 4.350923 4.301359  0.02457348\n",
       "Austria-2004 32.25 77.95000 73.26667 ... 3.473518 4.356068 4.294106  0.03925263\n",
       "Austria-2005 33.50 76.86667 73.40000 ... 3.511545 4.342072 4.295924  0.09042667\n",
       "Austria-2006 36.70 80.36667 74.13333 ... 3.602777 4.386599 4.305865  0.01944595\n",
       "             d_Lnlabor_stock d_Lncapital_stock d_RL d_GS  d_RE      d_MO      \n",
       "Austria-2001 0.004789680     0.02519178        0.5   0.00  0.600000 -1.6666667\n",
       "Austria-2002 0.002382666     0.02116974        0.5  -2.90 -1.600000  0.5333333\n",
       "Austria-2003 0.006909498     0.02231303        0.5   0.25 -0.650000  0.6000000\n",
       "Austria-2004 0.011614352     0.02131161        0.0   0.30  0.400000 -0.5333333\n",
       "Austria-2005 0.001226535     0.02019777        1.0   1.25 -1.083333  0.1333333\n",
       "Austria-2006 0.011787026     0.01965728        2.0   3.20  3.500000  0.7333333"
      ]
     },
     "metadata": {},
     "output_type": "display_data"
    }
   ],
   "source": [
    "# Loading the differenced dataset\n",
    "df <- read.csv(\"DF_FINAL_diff.csv\")\n",
    "df <- pdata.frame(df, index = c(\"country\" , \"year\"))\n",
    "head(df)"
   ]
  },
  {
   "cell_type": "code",
   "execution_count": null,
   "metadata": {
    "vscode": {
     "languageId": "r"
    }
   },
   "outputs": [
    {
     "name": "stdout",
     "output_type": "stream",
     "text": [
      "\n",
      "\tPesaran's CIPS test for unit roots\n",
      "\n",
      "data:  df$Lnrgdpo\n",
      "CIPS test = -2.8644, lag order = 1, p-value = 0.01231\n",
      "alternative hypothesis: Stationarity\n",
      "\n",
      "\n",
      "\tPesaran's CIPS test for unit roots\n",
      "\n",
      "data:  df$Lnlabor_stock\n",
      "CIPS test = -2.6343, lag order = 1, p-value = 0.08016\n",
      "alternative hypothesis: Stationarity\n",
      "\n"
     ]
    },
    {
     "name": "stderr",
     "output_type": "stream",
     "text": [
      "Warning message in cipstest(df$Lncapital_stock, lags = 1):\n",
      "\"p-value greater than printed p-value\"\n"
     ]
    },
    {
     "name": "stdout",
     "output_type": "stream",
     "text": [
      "\n",
      "\tPesaran's CIPS test for unit roots\n",
      "\n",
      "data:  df$Lncapital_stock\n",
      "CIPS test = -2.4035, lag order = 1, p-value = 0.1\n",
      "alternative hypothesis: Stationarity\n",
      "\n"
     ]
    },
    {
     "name": "stderr",
     "output_type": "stream",
     "text": [
      "Warning message in cipstest(df$RL, lags = 1):\n",
      "\"p-value greater than printed p-value\"\n"
     ]
    },
    {
     "name": "stdout",
     "output_type": "stream",
     "text": [
      "\n",
      "\tPesaran's CIPS test for unit roots\n",
      "\n",
      "data:  df$RL\n",
      "CIPS test = -1.2065, lag order = 1, p-value = 0.1\n",
      "alternative hypothesis: Stationarity\n",
      "\n"
     ]
    },
    {
     "name": "stderr",
     "output_type": "stream",
     "text": [
      "Warning message in cipstest(df$GS, lags = 1):\n",
      "\"p-value greater than printed p-value\"\n"
     ]
    },
    {
     "name": "stdout",
     "output_type": "stream",
     "text": [
      "\n",
      "\tPesaran's CIPS test for unit roots\n",
      "\n",
      "data:  df$GS\n",
      "CIPS test = -2.4953, lag order = 1, p-value = 0.1\n",
      "alternative hypothesis: Stationarity\n",
      "\n"
     ]
    },
    {
     "name": "stderr",
     "output_type": "stream",
     "text": [
      "Warning message in cipstest(df$RE, lags = 1):\n",
      "\"p-value greater than printed p-value\"\n"
     ]
    },
    {
     "name": "stdout",
     "output_type": "stream",
     "text": [
      "\n",
      "\tPesaran's CIPS test for unit roots\n",
      "\n",
      "data:  df$RE\n",
      "CIPS test = -2.2975, lag order = 1, p-value = 0.1\n",
      "alternative hypothesis: Stationarity\n",
      "\n"
     ]
    },
    {
     "name": "stderr",
     "output_type": "stream",
     "text": [
      "Warning message in cipstest(df$MO, lags = 1):\n",
      "\"p-value greater than printed p-value\"\n"
     ]
    },
    {
     "name": "stdout",
     "output_type": "stream",
     "text": [
      "\n",
      "\tPesaran's CIPS test for unit roots\n",
      "\n",
      "data:  df$MO\n",
      "CIPS test = -2.5472, lag order = 1, p-value = 0.1\n",
      "alternative hypothesis: Stationarity\n",
      "\n"
     ]
    }
   ],
   "source": [
    "# Original variables\n",
    "CIPS_Lnrgdpo <- cipstest(df$Lnrgdpo , lags=1)\n",
    "print(CIPS_Lnrgdpo)\n",
    "CIPS_Lnlabor_stock <- cipstest(df$Lnlabor_stock , lags=1)\n",
    "print(CIPS_Lnlabor_stock)\n",
    "CIPS_Lncapital_stock <- cipstest(df$Lncapital_stock , lags=1)\n",
    "print(CIPS_Lncapital_stock)\n",
    "CIPS_RL <- cipstest(df$RL , lags=1)\n",
    "print(CIPS_RL)\n",
    "CIPS_GS <- cipstest(df$GS , lags=1)\n",
    "print(CIPS_GS)\n",
    "CIPS_RE <- cipstest(df$RE , lags=1)\n",
    "print(CIPS_RE)\n",
    "CIPS_MO <- cipstest(df$MO , lags=1)\n",
    "print(CIPS_MO)"
   ]
  },
  {
   "cell_type": "code",
   "execution_count": null,
   "metadata": {
    "vscode": {
     "languageId": "r"
    }
   },
   "outputs": [
    {
     "name": "stderr",
     "output_type": "stream",
     "text": [
      "Warning message in cipstest(df$d_Lnrgdpo, lags = 1):\n",
      "\"p-value smaller than printed p-value\"\n"
     ]
    },
    {
     "name": "stdout",
     "output_type": "stream",
     "text": [
      "\n",
      "\tPesaran's CIPS test for unit roots\n",
      "\n",
      "data:  df$d_Lnrgdpo\n",
      "CIPS test = -3.2089, lag order = 1, p-value = 0.01\n",
      "alternative hypothesis: Stationarity\n",
      "\n",
      "\n",
      "\tPesaran's CIPS test for unit roots\n",
      "\n",
      "data:  df$d_Lnlabor_stock\n",
      "CIPS test = -2.7646, lag order = 1, p-value = 0.03421\n",
      "alternative hypothesis: Stationarity\n",
      "\n",
      "\n",
      "\tPesaran's CIPS test for unit roots\n",
      "\n",
      "data:  df$d_Lncapital_stock\n",
      "CIPS test = -2.665, lag order = 1, p-value = 0.06428\n",
      "alternative hypothesis: Stationarity\n",
      "\n",
      "\n",
      "\tPesaran's CIPS test for unit roots\n",
      "\n",
      "data:  df$d_RL\n",
      "CIPS test = -2.8567, lag order = 1, p-value = 0.01416\n",
      "alternative hypothesis: Stationarity\n",
      "\n"
     ]
    },
    {
     "name": "stderr",
     "output_type": "stream",
     "text": [
      "Warning message in cipstest(df$d_GS, lags = 1):\n",
      "\"p-value smaller than printed p-value\"\n"
     ]
    },
    {
     "name": "stdout",
     "output_type": "stream",
     "text": [
      "\n",
      "\tPesaran's CIPS test for unit roots\n",
      "\n",
      "data:  df$d_GS\n",
      "CIPS test = -3.3983, lag order = 1, p-value = 0.01\n",
      "alternative hypothesis: Stationarity\n",
      "\n"
     ]
    },
    {
     "name": "stderr",
     "output_type": "stream",
     "text": [
      "Warning message in cipstest(df$d_RE, lags = 1):\n",
      "\"p-value smaller than printed p-value\"\n"
     ]
    },
    {
     "name": "stdout",
     "output_type": "stream",
     "text": [
      "\n",
      "\tPesaran's CIPS test for unit roots\n",
      "\n",
      "data:  df$d_RE\n",
      "CIPS test = -3.1064, lag order = 1, p-value = 0.01\n",
      "alternative hypothesis: Stationarity\n",
      "\n"
     ]
    },
    {
     "name": "stderr",
     "output_type": "stream",
     "text": [
      "Warning message in cipstest(df$d_MO, lags = 1):\n",
      "\"p-value smaller than printed p-value\"\n"
     ]
    },
    {
     "name": "stdout",
     "output_type": "stream",
     "text": [
      "\n",
      "\tPesaran's CIPS test for unit roots\n",
      "\n",
      "data:  df$d_MO\n",
      "CIPS test = -3.2233, lag order = 1, p-value = 0.01\n",
      "alternative hypothesis: Stationarity\n",
      "\n"
     ]
    }
   ],
   "source": [
    "CIPS_Lnrgdpo <- cipstest(df$d_Lnrgdpo , lags=1)\n",
    "print(CIPS_Lnrgdpo)\n",
    "CIPS_Lnlabor_stock <- cipstest(df$d_Lnlabor_stock , lags=1)\n",
    "print(CIPS_Lnlabor_stock)\n",
    "CIPS_Lncapital_stock <- cipstest(df$d_Lncapital_stock , lags=1)\n",
    "print(CIPS_Lncapital_stock)\n",
    "CIPS_RL <- cipstest(df$d_RL , lags=1)\n",
    "print(CIPS_RL)\n",
    "CIPS_GS <- cipstest(df$d_GS , lags=1)\n",
    "print(CIPS_GS)\n",
    "CIPS_RE <- cipstest(df$d_RE , lags=1)\n",
    "print(CIPS_RE)\n",
    "CIPS_MO <- cipstest(df$d_MO , lags=1)\n",
    "print(CIPS_MO)"
   ]
  },
  {
   "cell_type": "markdown",
   "metadata": {},
   "source": [
    "---\n",
    "## Testing for entity and time effects of the FE model"
   ]
  },
  {
   "cell_type": "code",
   "execution_count": null,
   "metadata": {
    "vscode": {
     "languageId": "r"
    }
   },
   "outputs": [],
   "source": [
    "# FE with entity and FE with time\n",
    "FE_entity <- plm(Lnrgdpo ~ Lnlabor_stock + Lncapital_stock + RL + GS + RE + MO, data = pdata, model = \"within\", effect = \"individual\")\n",
    "FE_time <- plm(Lnrgdpo ~ Lnlabor_stock + Lncapital_stock + RL + GS + RE + MO, data = pdata, model = \"within\", effect = \"time\")"
   ]
  },
  {
   "cell_type": "code",
   "execution_count": null,
   "metadata": {
    "vscode": {
     "languageId": "r"
    }
   },
   "outputs": [
    {
     "data": {
      "text/plain": [
       "\n",
       "\tF test for individual effects\n",
       "\n",
       "data:  Lnrgdpo ~ Lnlabor_stock + Lncapital_stock + RL + GS + RE + MO\n",
       "F = 96.805, df1 = 29, df2 = 564, p-value < 2.2e-16\n",
       "alternative hypothesis: significant effects\n"
      ]
     },
     "metadata": {},
     "output_type": "display_data"
    }
   ],
   "source": [
    "# Test for significance of entity effects\n",
    "pFtest(FE_entity , Pooled)"
   ]
  },
  {
   "cell_type": "code",
   "execution_count": null,
   "metadata": {
    "vscode": {
     "languageId": "r"
    }
   },
   "outputs": [
    {
     "data": {
      "text/plain": [
       "\n",
       "\tF test for time effects\n",
       "\n",
       "data:  Lnrgdpo ~ Lnlabor_stock + Lncapital_stock + RL + GS + RE + MO\n",
       "F = 5.5282, df1 = 19, df2 = 574, p-value = 1.304e-12\n",
       "alternative hypothesis: significant effects\n"
      ]
     },
     "metadata": {},
     "output_type": "display_data"
    }
   ],
   "source": [
    "# Test for significance of time effects\n",
    "pFtest(FE_time , Pooled)"
   ]
  },
  {
   "cell_type": "markdown",
   "metadata": {
    "vscode": {
     "languageId": "r"
    }
   },
   "source": [
    "---\n",
    "# **Regular estimations**"
   ]
  },
  {
   "cell_type": "markdown",
   "metadata": {},
   "source": [
    "## Fixed-effects estimation with both entity and time effects\n",
    "$$\n",
    "y_{i,t} = \\mu_{i} + \\lambda_{t} + \\beta x_{i,t} + \\epsilon_{i,t}"
   ]
  },
  {
   "cell_type": "code",
   "execution_count": null,
   "metadata": {
    "vscode": {
     "languageId": "r"
    }
   },
   "outputs": [],
   "source": [
    "# Fixed-Effects Estimation with both entity and time effects for comparison\n",
    "FE <- plm(Lnrgdpo ~ Lnlabor_stock + Lncapital_stock + RL + GS + RE + MO, data = pdata, model = \"within\", effect = \"twoways\")"
   ]
  },
  {
   "cell_type": "code",
   "execution_count": null,
   "metadata": {
    "vscode": {
     "languageId": "r"
    }
   },
   "outputs": [
    {
     "data": {
      "text/plain": [
       "Twoways effects Within Model\n",
       "\n",
       "Note: Coefficient variance-covariance matrix supplied: vcovSCC\n",
       "\n",
       "Call:\n",
       "plm(formula = Lnrgdpo ~ Lnlabor_stock + Lncapital_stock + RL + \n",
       "    GS + RE + MO, data = pdata, effect = \"twoways\", model = \"within\")\n",
       "\n",
       "Balanced Panel: n = 30, T = 20, N = 600\n",
       "\n",
       "Residuals:\n",
       "       Min.     1st Qu.      Median     3rd Qu.        Max. \n",
       "-2.2628e-01 -3.4544e-02 -6.4836e-05  3.4859e-02  2.7091e-01 \n",
       "\n",
       "Coefficients:\n",
       "                   Estimate  Std. Error t-value  Pr(>|t|)    \n",
       "Lnlabor_stock    0.33551040  0.16304679  2.0578  0.040089 *  \n",
       "Lncapital_stock  0.51212106  0.06238541  8.2090 1.622e-15 ***\n",
       "RL               0.00445198  0.00102049  4.3626 1.537e-05 ***\n",
       "GS               0.00269215  0.00067069  4.0140 6.806e-05 ***\n",
       "RE               0.00150726  0.00093555  1.6111  0.107737    \n",
       "MO              -0.00233544  0.00071387 -3.2715  0.001137 ** \n",
       "---\n",
       "Signif. codes:  0 '***' 0.001 '**' 0.01 '*' 0.05 '.' 0.1 ' ' 1\n",
       "\n",
       "Total Sum of Squares:    4.6764\n",
       "Residual Sum of Squares: 2.7592\n",
       "R-Squared:      0.40996\n",
       "Adj. R-Squared: 0.3515\n",
       "F-statistic: 207.364 on 6 and 19 DF, p-value: 2.8391e-16"
      ]
     },
     "metadata": {},
     "output_type": "display_data"
    }
   ],
   "source": [
    "summary(FE, vcov = vcovSCC)"
   ]
  },
  {
   "cell_type": "markdown",
   "metadata": {},
   "source": [
    "---\n",
    "## Pooled common correlated effects estimator (CCEP)\n",
    "$$\n",
    "y_{i,t} = \\mu_{i} + \\beta x_{i,t} + \\gamma f_{t} + \\epsilon_{i,t}\n",
    "$$"
   ]
  },
  {
   "cell_type": "code",
   "execution_count": null,
   "metadata": {
    "vscode": {
     "languageId": "r"
    }
   },
   "outputs": [],
   "source": [
    "# Pooled Common Correlated Effects Estimator (PCCE)\n",
    "CCE_P <- pcce(Lnrgdpo ~ Lnlabor_stock + Lncapital_stock + RL + GS + RE + MO, data = pdata, model = \"p\")"
   ]
  },
  {
   "cell_type": "code",
   "execution_count": null,
   "metadata": {
    "vscode": {
     "languageId": "r"
    }
   },
   "outputs": [
    {
     "data": {
      "text/plain": [
       "Common Correlated Effects Pooled model\n",
       "\n",
       "Note: Coefficient variance-covariance matrix supplied: vcovSCC\n",
       "\n",
       "Call:\n",
       "pcce(formula = Lnrgdpo ~ Lnlabor_stock + Lncapital_stock + RL + \n",
       "    GS + RE + MO, data = pdata, model = \"p\")\n",
       "\n",
       "Balanced Panel: n = 30, T = 20, N = 600\n",
       "\n",
       "Residuals:\n",
       "         Min.       1st Qu.        Median       3rd Qu.          Max. \n",
       "-0.1456495706 -0.0122372469 -0.0009223022  0.0122074445  0.1543753008 \n",
       "\n",
       "Coefficients:\n",
       "                   Estimate  Std. Error z-value  Pr(>|z|)    \n",
       "Lnlabor_stock    0.57929764  0.06266540  9.2443 < 2.2e-16 ***\n",
       "Lncapital_stock  0.77433759  0.08012978  9.6635 < 2.2e-16 ***\n",
       "RL              -0.00078756  0.00030381 -2.5923  0.009534 ** \n",
       "GS               0.00063116  0.00035506  1.7776  0.075467 .  \n",
       "RE               0.00113013  0.00042973  2.6299  0.008542 ** \n",
       "MO              -0.00013673  0.00040453 -0.3380  0.735357    \n",
       "---\n",
       "Signif. codes:  0 '***' 0.001 '**' 0.01 '*' 0.05 '.' 0.1 ' ' 1\n",
       "Total Sum of Squares: 1319.8\n",
       "Residual Sum of Squares: 0.43209\n",
       "HPY R-squared: 0.96484"
      ]
     },
     "metadata": {},
     "output_type": "display_data"
    }
   ],
   "source": [
    "summary(CCE_P, vcov = vcovSCC)"
   ]
  },
  {
   "cell_type": "markdown",
   "metadata": {},
   "source": [
    "---\n",
    "## Mean groups common correlated effects estimator (CCEMG)\n",
    "$$\n",
    "y_{i,t} = \\mu_{i} + \\beta_{i} x_{i,t} + \\gamma f_{t} + \\epsilon_{i,t}"
   ]
  },
  {
   "cell_type": "code",
   "execution_count": null,
   "metadata": {
    "vscode": {
     "languageId": "r"
    }
   },
   "outputs": [],
   "source": [
    "# Mean Groups Common Correlated Effects Estimator (MGCCE)\n",
    "CCE_MG <- pcce(Lnrgdpo ~ Lnlabor_stock + Lncapital_stock + RL + GS + RE + MO, data = pdata, model = \"mg\")"
   ]
  },
  {
   "cell_type": "code",
   "execution_count": null,
   "metadata": {
    "vscode": {
     "languageId": "r"
    }
   },
   "outputs": [
    {
     "data": {
      "text/plain": [
       "Common Correlated Effects Mean Groups model\n",
       "\n",
       "Note: Coefficient variance-covariance matrix supplied: vcovSCC\n",
       "\n",
       "Call:\n",
       "pcce(formula = Lnrgdpo ~ Lnlabor_stock + Lncapital_stock + RL + \n",
       "    GS + RE + MO, data = pdata, model = \"mg\")\n",
       "\n",
       "Balanced Panel: n = 30, T = 20, N = 600\n",
       "\n",
       "Residuals:\n",
       "         Min.       1st Qu.        Median       3rd Qu.          Max. \n",
       "-0.0489473497 -0.0065300722  0.0001165177  0.0063679202  0.0560125446 \n",
       "\n",
       "Coefficients:\n",
       "                   Estimate  Std. Error  z-value  Pr(>|z|)    \n",
       "Lnlabor_stock    3.5690e-01  2.9839e-02  11.9607 < 2.2e-16 ***\n",
       "Lncapital_stock  2.3493e-01  4.9076e-02   4.7870 1.693e-06 ***\n",
       "RL              -1.7567e-03  9.7457e-05 -18.0253 < 2.2e-16 ***\n",
       "GS               4.9765e-04  1.8389e-04   2.7062  0.006805 ** \n",
       "RE              -1.3785e-03  2.5933e-04  -5.3156 1.063e-07 ***\n",
       "MO               5.2399e-04  2.0782e-04   2.5213  0.011691 *  \n",
       "---\n",
       "Signif. codes:  0 '***' 0.001 '**' 0.01 '*' 0.05 '.' 0.1 ' ' 1\n",
       "Total Sum of Squares: 1319.8\n",
       "Residual Sum of Squares: 0.091168\n",
       "HPY R-squared: 0.98541"
      ]
     },
     "metadata": {},
     "output_type": "display_data"
    }
   ],
   "source": [
    "summary(CCE_MG , vcov = vcovSCC)"
   ]
  },
  {
   "cell_type": "markdown",
   "metadata": {
    "vscode": {
     "languageId": "r"
    }
   },
   "source": [
    "---\n"
   ]
  },
  {
   "cell_type": "markdown",
   "metadata": {},
   "source": [
    "# **First-differenced estimations**"
   ]
  },
  {
   "cell_type": "code",
   "execution_count": null,
   "metadata": {
    "vscode": {
     "languageId": "r"
    }
   },
   "outputs": [
    {
     "data": {
      "text/html": [
       "<table class=\"dataframe\">\n",
       "<caption>A pdata.frame: 6 x 10</caption>\n",
       "<thead>\n",
       "\t<tr><th></th><th scope=col>Index</th><th scope=col>country</th><th scope=col>year</th><th scope=col>delta_Lnrgdpo</th><th scope=col>delta_Lnlabor_stock</th><th scope=col>delta_Lncapital_stock</th><th scope=col>delta_RL</th><th scope=col>delta_GS</th><th scope=col>delta_RE</th><th scope=col>delta_MO</th></tr>\n",
       "\t<tr><th></th><th scope=col>&lt;int&gt;</th><th scope=col>&lt;fct&gt;</th><th scope=col>&lt;fct&gt;</th><th scope=col>&lt;dbl&gt;</th><th scope=col>&lt;dbl&gt;</th><th scope=col>&lt;dbl&gt;</th><th scope=col>&lt;dbl&gt;</th><th scope=col>&lt;dbl&gt;</th><th scope=col>&lt;dbl&gt;</th><th scope=col>&lt;dbl&gt;</th></tr>\n",
       "</thead>\n",
       "<tbody>\n",
       "\t<tr><th scope=row>Austria-2001</th><td>1</td><td>Austria</td><td>2001</td><td>-0.02295222</td><td>0.004789680</td><td>0.02519178</td><td>0.5</td><td> 0.00</td><td> 0.600000</td><td>-1.6666667</td></tr>\n",
       "\t<tr><th scope=row>Austria-2002</th><td>2</td><td>Austria</td><td>2002</td><td> 0.02086782</td><td>0.002382666</td><td>0.02116974</td><td>0.5</td><td>-2.90</td><td>-1.600000</td><td> 0.5333333</td></tr>\n",
       "\t<tr><th scope=row>Austria-2003</th><td>3</td><td>Austria</td><td>2003</td><td> 0.02457348</td><td>0.006909498</td><td>0.02231303</td><td>0.5</td><td> 0.25</td><td>-0.650000</td><td> 0.6000000</td></tr>\n",
       "\t<tr><th scope=row>Austria-2004</th><td>4</td><td>Austria</td><td>2004</td><td> 0.03925263</td><td>0.011614352</td><td>0.02131161</td><td>0.0</td><td> 0.30</td><td> 0.400000</td><td>-0.5333333</td></tr>\n",
       "\t<tr><th scope=row>Austria-2005</th><td>5</td><td>Austria</td><td>2005</td><td> 0.09042667</td><td>0.001226535</td><td>0.02019777</td><td>1.0</td><td> 1.25</td><td>-1.083333</td><td> 0.1333333</td></tr>\n",
       "\t<tr><th scope=row>Austria-2006</th><td>6</td><td>Austria</td><td>2006</td><td> 0.01944595</td><td>0.011787026</td><td>0.01965728</td><td>2.0</td><td> 3.20</td><td> 3.500000</td><td> 0.7333333</td></tr>\n",
       "</tbody>\n",
       "</table>\n"
      ],
      "text/latex": [
       "A pdata.frame: 6 x 10\n",
       "\\begin{tabular}{r|llllllllll}\n",
       "  & Index & country & year & delta\\_Lnrgdpo & delta\\_Lnlabor\\_stock & delta\\_Lncapital\\_stock & delta\\_RL & delta\\_GS & delta\\_RE & delta\\_MO\\\\\n",
       "  & <int> & <fct> & <fct> & <dbl> & <dbl> & <dbl> & <dbl> & <dbl> & <dbl> & <dbl>\\\\\n",
       "\\hline\n",
       "\tAustria-2001 & 1 & Austria & 2001 & -0.02295222 & 0.004789680 & 0.02519178 & 0.5 &  0.00 &  0.600000 & -1.6666667\\\\\n",
       "\tAustria-2002 & 2 & Austria & 2002 &  0.02086782 & 0.002382666 & 0.02116974 & 0.5 & -2.90 & -1.600000 &  0.5333333\\\\\n",
       "\tAustria-2003 & 3 & Austria & 2003 &  0.02457348 & 0.006909498 & 0.02231303 & 0.5 &  0.25 & -0.650000 &  0.6000000\\\\\n",
       "\tAustria-2004 & 4 & Austria & 2004 &  0.03925263 & 0.011614352 & 0.02131161 & 0.0 &  0.30 &  0.400000 & -0.5333333\\\\\n",
       "\tAustria-2005 & 5 & Austria & 2005 &  0.09042667 & 0.001226535 & 0.02019777 & 1.0 &  1.25 & -1.083333 &  0.1333333\\\\\n",
       "\tAustria-2006 & 6 & Austria & 2006 &  0.01944595 & 0.011787026 & 0.01965728 & 2.0 &  3.20 &  3.500000 &  0.7333333\\\\\n",
       "\\end{tabular}\n"
      ],
      "text/markdown": [
       "\n",
       "A pdata.frame: 6 x 10\n",
       "\n",
       "| <!--/--> | Index &lt;int&gt; | country &lt;fct&gt; | year &lt;fct&gt; | delta_Lnrgdpo &lt;dbl&gt; | delta_Lnlabor_stock &lt;dbl&gt; | delta_Lncapital_stock &lt;dbl&gt; | delta_RL &lt;dbl&gt; | delta_GS &lt;dbl&gt; | delta_RE &lt;dbl&gt; | delta_MO &lt;dbl&gt; |\n",
       "|---|---|---|---|---|---|---|---|---|---|---|\n",
       "| Austria-2001 | 1 | Austria | 2001 | -0.02295222 | 0.004789680 | 0.02519178 | 0.5 |  0.00 |  0.600000 | -1.6666667 |\n",
       "| Austria-2002 | 2 | Austria | 2002 |  0.02086782 | 0.002382666 | 0.02116974 | 0.5 | -2.90 | -1.600000 |  0.5333333 |\n",
       "| Austria-2003 | 3 | Austria | 2003 |  0.02457348 | 0.006909498 | 0.02231303 | 0.5 |  0.25 | -0.650000 |  0.6000000 |\n",
       "| Austria-2004 | 4 | Austria | 2004 |  0.03925263 | 0.011614352 | 0.02131161 | 0.0 |  0.30 |  0.400000 | -0.5333333 |\n",
       "| Austria-2005 | 5 | Austria | 2005 |  0.09042667 | 0.001226535 | 0.02019777 | 1.0 |  1.25 | -1.083333 |  0.1333333 |\n",
       "| Austria-2006 | 6 | Austria | 2006 |  0.01944595 | 0.011787026 | 0.01965728 | 2.0 |  3.20 |  3.500000 |  0.7333333 |\n",
       "\n"
      ],
      "text/plain": [
       "             Index country year delta_Lnrgdpo delta_Lnlabor_stock\n",
       "Austria-2001 1     Austria 2001 -0.02295222   0.004789680        \n",
       "Austria-2002 2     Austria 2002  0.02086782   0.002382666        \n",
       "Austria-2003 3     Austria 2003  0.02457348   0.006909498        \n",
       "Austria-2004 4     Austria 2004  0.03925263   0.011614352        \n",
       "Austria-2005 5     Austria 2005  0.09042667   0.001226535        \n",
       "Austria-2006 6     Austria 2006  0.01944595   0.011787026        \n",
       "             delta_Lncapital_stock delta_RL delta_GS delta_RE  delta_MO  \n",
       "Austria-2001 0.02519178            0.5       0.00     0.600000 -1.6666667\n",
       "Austria-2002 0.02116974            0.5      -2.90    -1.600000  0.5333333\n",
       "Austria-2003 0.02231303            0.5       0.25    -0.650000  0.6000000\n",
       "Austria-2004 0.02131161            0.0       0.30     0.400000 -0.5333333\n",
       "Austria-2005 0.02019777            1.0       1.25    -1.083333  0.1333333\n",
       "Austria-2006 0.01965728            2.0       3.20     3.500000  0.7333333"
      ]
     },
     "metadata": {},
     "output_type": "display_data"
    }
   ],
   "source": [
    "data <- read.csv(\"DF_DIFF.csv\")\n",
    "# Indexing based on country and year\n",
    "pdata <- pdata.frame(data, index = c(\"country\" , \"year\"))\n",
    "head(pdata)"
   ]
  },
  {
   "cell_type": "markdown",
   "metadata": {},
   "source": [
    "---\n",
    "## Fixed-effects estimation with both entity and time effects\n",
    "$$   \\Delta {ln(GDP)}_{i,t} = \\mu_{i} + \\lambda_{t} + \\beta_{1} \\Delta {ln(L)}_{i,t} + \\beta_{2} \\Delta {ln(K)}_{i,t} + \\beta_{3} \\Delta {RL}_{i,t} + \\beta_{4} \\Delta {GS}_{i,t} + \\beta_{5} \\Delta {RE}_{i,t} + \\beta_{6} \\Delta {MO}_{i,t} + \\epsilon_{i,t}$$"
   ]
  },
  {
   "cell_type": "code",
   "execution_count": null,
   "metadata": {
    "vscode": {
     "languageId": "r"
    }
   },
   "outputs": [
    {
     "data": {
      "text/plain": [
       "Twoways effects Within Model\n",
       "\n",
       "Note: Coefficient variance-covariance matrix supplied: vcovSCC\n",
       "\n",
       "Call:\n",
       "plm(formula = delta_Lnrgdpo ~ delta_Lnlabor_stock + delta_Lncapital_stock + \n",
       "    delta_RL + delta_GS + delta_RE + delta_MO, data = pdata, \n",
       "    effect = \"twoways\", model = \"within\")\n",
       "\n",
       "Balanced Panel: n = 30, T = 19, N = 570\n",
       "\n",
       "Residuals:\n",
       "      Min.    1st Qu.     Median    3rd Qu.       Max. \n",
       "-0.1929489 -0.0159077 -0.0002493  0.0159833  0.1897883 \n",
       "\n",
       "Coefficients:\n",
       "                         Estimate  Std. Error t-value  Pr(>|t|)    \n",
       "delta_Lnlabor_stock    0.53297869  0.09126483  5.8399 9.249e-09 ***\n",
       "delta_Lncapital_stock  0.54551106  0.12082168  4.5150 7.852e-06 ***\n",
       "delta_RL              -0.00061515  0.00064102 -0.9596 0.3376835    \n",
       "delta_GS               0.00084452  0.00021709  3.8902 0.0001133 ***\n",
       "delta_RE              -0.00034349  0.00072746 -0.4722 0.6369994    \n",
       "delta_MO              -0.00071769  0.00048845 -1.4693 0.1423596    \n",
       "---\n",
       "Signif. codes:  0 '***' 0.001 '**' 0.01 '*' 0.05 '.' 0.1 ' ' 1\n",
       "\n",
       "Total Sum of Squares:    0.75959\n",
       "Residual Sum of Squares: 0.64773\n",
       "R-Squared:      0.14727\n",
       "Adj. R-Squared: 0.05968\n",
       "F-statistic: 21.2478 on 6 and 18 DF, p-value: 2.9508e-07"
      ]
     },
     "metadata": {},
     "output_type": "display_data"
    }
   ],
   "source": [
    "# Fixed-Effects Estimation with both entity and time effects\n",
    "FE_diff <- plm(delta_Lnrgdpo ~ delta_Lnlabor_stock + delta_Lncapital_stock + delta_RL + delta_GS + delta_RE + delta_MO, data = pdata, model = \"within\", effect = \"twoways\")\n",
    "summary(FE_diff, vcov = vcovSCC)"
   ]
  },
  {
   "cell_type": "markdown",
   "metadata": {
    "vscode": {
     "languageId": "r"
    }
   },
   "source": [
    "---\n",
    "## Pooled common correlated effects estimator (CCEP)\n",
    "$$\n",
    "\\Delta ln(GDP)_{i,t} = \\mu + \\lambda_{t} + \\beta_{1} \\Delta ln(L)_{i,t} + \\beta_{2} \\Delta ln(K)_{i,t} + \\beta_{3} \\Delta RL_{i,t} + \\beta_{4} \\Delta GS_{i,t} + \\beta_{5} \\Delta RE_{i,t} + \\beta_{6} \\Delta MO_{i,t} + \\gamma f_{t} + \\epsilon_{i,t}\n",
    "$$\n",
    "where\n",
    "$$\n",
    "\\gamma f_{t} = \\gamma_{1} \\overline{\\Delta ln(GDP)_{t}} + \\gamma_{2} \\overline{\\Delta ln(L)_{t}} + \\gamma_{3} \\overline{\\Delta ln(K)_{t}} + \\gamma_{4} \\overline{\\Delta RL_{t}} + \\gamma_{5} \\overline{\\Delta GS_{t}} + \\gamma_{6} \\overline{\\Delta RE_{t}} + \\gamma_{7} \\overline{\\Delta MO_{t}}"
   ]
  },
  {
   "cell_type": "code",
   "execution_count": null,
   "metadata": {
    "vscode": {
     "languageId": "r"
    }
   },
   "outputs": [
    {
     "data": {
      "text/plain": [
       "Common Correlated Effects Pooled model\n",
       "\n",
       "Note: Coefficient variance-covariance matrix supplied: vcovSCC\n",
       "\n",
       "Call:\n",
       "pcce(formula = delta_Lnrgdpo ~ delta_Lnlabor_stock + delta_Lncapital_stock + \n",
       "    delta_RL + delta_GS + delta_RE + delta_MO, data = pdata, \n",
       "    model = \"p\")\n",
       "\n",
       "Balanced Panel: n = 30, T = 19, N = 570\n",
       "\n",
       "Residuals:\n",
       "         Min.       1st Qu.        Median       3rd Qu.          Max. \n",
       "-0.1376046867 -0.0121280307  0.0004819965  0.0116215832  0.1680225472 \n",
       "\n",
       "Coefficients:\n",
       "                         Estimate  Std. Error z-value  Pr(>|z|)    \n",
       "delta_Lnlabor_stock    5.1336e-01  5.1402e-02  9.9873 < 2.2e-16 ***\n",
       "delta_Lncapital_stock  7.5297e-01  2.7522e-01  2.7359  0.006221 ** \n",
       "delta_RL              -5.5603e-04  3.3163e-04 -1.6767  0.093606 .  \n",
       "delta_GS               4.9221e-04  3.7196e-04  1.3233  0.185742    \n",
       "delta_RE              -6.6243e-04  5.9921e-04 -1.1055  0.268941    \n",
       "delta_MO              -7.4681e-05  5.3062e-04 -0.1407  0.888073    \n",
       "---\n",
       "Signif. codes:  0 '***' 0.001 '**' 0.01 '*' 0.05 '.' 0.1 ' ' 1\n",
       "Total Sum of Squares: 1.374\n",
       "Residual Sum of Squares: 0.36328\n",
       "HPY R-squared: 0.52771"
      ]
     },
     "metadata": {},
     "output_type": "display_data"
    }
   ],
   "source": [
    "# Pooled Common Correlated Effects Estimator (PCCE)\n",
    "CCE_P_diff <- pcce(delta_Lnrgdpo ~ delta_Lnlabor_stock + delta_Lncapital_stock + delta_RL + delta_GS + delta_RE + delta_MO, data = pdata, model = \"p\")\n",
    "summary(CCE_P_diff, vcov = vcovSCC)"
   ]
  },
  {
   "cell_type": "markdown",
   "metadata": {},
   "source": [
    "---\n",
    "## Mean groups common correlated effects estimator (CCEMG)\n",
    "For each cross-section $i$ :\n",
    "$$\n",
    "\\Delta ln(GDP)_{i,t} = \\mu_{i} + \\lambda_{t} + \\beta_{1,i} \\Delta ln(L)_{i,t} + \\beta_{2,i} \\Delta ln(K)_{i,t} + \\beta_{3,i} \\Delta RL_{i,t} + \\beta_{4,i} \\Delta GS_{i,t} + \\beta_{5,i} \\Delta RE_{i,t} + \\beta_{6,i} \\Delta MO_{i,t} + \\gamma_{i} f_{t} + \\epsilon_{i,t}\n",
    "$$\n",
    "where\n",
    "$$\n",
    " \\gamma_i f_t = \\gamma_{1,i} \\overline{\\Delta ln({GDP})_t} + \\gamma_{2,i} \\overline{\\Delta ln({L})_t} + \\gamma_{3,i} \\overline{\\Delta ln({K})_t} + \\gamma_{4,i} \\overline{\\Delta {RL}_t} + \\gamma_{5,i} \\overline{\\Delta {GS}_t} + \\gamma_{6,i} \\overline{\\Delta {RE}_t} + \\gamma_{7,i} \\overline{\\Delta {MO}_t} \n",
    " $$"
   ]
  },
  {
   "cell_type": "markdown",
   "metadata": {},
   "source": [
    "then, average the coefficients across all cross-sections:\n",
    "$$\n",
    "\\beta_{j} = \\frac{1}{N} \\sum_{i=1}^{N} \\beta{j,i} \\quad \\text{for } j=1 , 2 , \\ldots , 6\n",
    "$$"
   ]
  },
  {
   "cell_type": "code",
   "execution_count": null,
   "metadata": {
    "vscode": {
     "languageId": "r"
    }
   },
   "outputs": [
    {
     "data": {
      "text/plain": [
       "Common Correlated Effects Mean Groups model\n",
       "\n",
       "Note: Coefficient variance-covariance matrix supplied: vcovSCC\n",
       "\n",
       "Call:\n",
       "pcce(formula = delta_Lnrgdpo ~ delta_Lnlabor_stock + delta_Lncapital_stock + \n",
       "    delta_RL + delta_GS + delta_RE + delta_MO, data = pdata, \n",
       "    model = \"mg\")\n",
       "\n",
       "Balanced Panel: n = 30, T = 19, N = 570\n",
       "\n",
       "Residuals:\n",
       "         Min.       1st Qu.        Median       3rd Qu.          Max. \n",
       "-0.0668382648 -0.0075895714  0.0003037069  0.0074156619  0.0728148834 \n",
       "\n",
       "Coefficients:\n",
       "                         Estimate  Std. Error z-value  Pr(>|z|)    \n",
       "delta_Lnlabor_stock    0.16797182  0.03567114  4.7089 2.491e-06 ***\n",
       "delta_Lncapital_stock  0.34195022  0.14286339  2.3935 0.0166863 *  \n",
       "delta_RL              -0.00217232  0.00022638 -9.5958 < 2.2e-16 ***\n",
       "delta_GS               0.00062688  0.00017441  3.5942 0.0003253 ***\n",
       "delta_RE              -0.00230020  0.00030615 -7.5134 5.760e-14 ***\n",
       "delta_MO               0.00136401  0.00030951  4.4070 1.048e-05 ***\n",
       "---\n",
       "Signif. codes:  0 '***' 0.001 '**' 0.01 '*' 0.05 '.' 0.1 ' ' 1\n",
       "Total Sum of Squares: 1.374\n",
       "Residual Sum of Squares: 0.13567\n",
       "HPY R-squared: 0.61902"
      ]
     },
     "metadata": {},
     "output_type": "display_data"
    }
   ],
   "source": [
    "# Mean Groups Common Correlated Effects Estimator (MGCCE)\n",
    "CCE_MG_diff <- pcce(delta_Lnrgdpo ~ delta_Lnlabor_stock + delta_Lncapital_stock + delta_RL + delta_GS + delta_RE + delta_MO, data = pdata, model = \"mg\")\n",
    "summary(CCE_MG_diff , vcov = vcovSCC)"
   ]
  },
  {
   "cell_type": "markdown",
   "metadata": {},
   "source": [
    "Sensitivity analysis of Lncapital_stock by running the regression again and excluding Lncapital_stock."
   ]
  },
  {
   "cell_type": "code",
   "execution_count": null,
   "metadata": {
    "vscode": {
     "languageId": "r"
    }
   },
   "outputs": [
    {
     "data": {
      "text/plain": [
       "Common Correlated Effects Mean Groups model\n",
       "\n",
       "Note: Coefficient variance-covariance matrix supplied: vcovSCC\n",
       "\n",
       "Call:\n",
       "pcce(formula = delta_Lnrgdpo ~ delta_Lnlabor_stock + delta_RL + \n",
       "    delta_GS + delta_RE + delta_MO, data = pdata, model = \"mg\")\n",
       "\n",
       "Balanced Panel: n = 30, T = 19, N = 570\n",
       "\n",
       "Residuals:\n",
       "        Min.      1st Qu.       Median      3rd Qu.         Max. \n",
       "-0.071299775 -0.008747891  0.000175403  0.009186237  0.116119682 \n",
       "\n",
       "Coefficients:\n",
       "                       Estimate  Std. Error  z-value  Pr(>|z|)    \n",
       "delta_Lnlabor_stock  0.40164806  0.04320314   9.2967 < 2.2e-16 ***\n",
       "delta_RL            -0.00207695  0.00016544 -12.5538 < 2.2e-16 ***\n",
       "delta_GS             0.00078698  0.00022573   3.4863 0.0004897 ***\n",
       "delta_RE            -0.00186128  0.00034474  -5.3990 6.701e-08 ***\n",
       "delta_MO             0.00168186  0.00035987   4.6735 2.960e-06 ***\n",
       "---\n",
       "Signif. codes:  0 '***' 0.001 '**' 0.01 '*' 0.05 '.' 0.1 ' ' 1\n",
       "Total Sum of Squares: 1.374\n",
       "Residual Sum of Squares: 0.21\n",
       "HPY R-squared: 0.57879"
      ]
     },
     "metadata": {},
     "output_type": "display_data"
    }
   ],
   "source": [
    "# Mean Groups Common Correlated Effects Estimator (MGCCE) excluding Lncapital_stock\n",
    "CCE_MG_diff2 <- pcce(delta_Lnrgdpo ~ delta_Lnlabor_stock + delta_RL + delta_GS + delta_RE + delta_MO, data = pdata, model = \"mg\")\n",
    "summary(CCE_MG_diff2 , vcov = vcovSCC)"
   ]
  },
  {
   "cell_type": "markdown",
   "metadata": {},
   "source": [
    "Sensitivity analysis of Lncapital_stock by running the regression again and excluding Lnlabor_stock."
   ]
  },
  {
   "cell_type": "code",
   "execution_count": null,
   "metadata": {
    "vscode": {
     "languageId": "r"
    }
   },
   "outputs": [
    {
     "data": {
      "text/plain": [
       "Common Correlated Effects Mean Groups model\n",
       "\n",
       "Note: Coefficient variance-covariance matrix supplied: vcovSCC\n",
       "\n",
       "Call:\n",
       "pcce(formula = delta_Lnrgdpo ~ delta_Lncapital_stock + delta_RL + \n",
       "    delta_GS + delta_RE + delta_MO, data = pdata, model = \"mg\")\n",
       "\n",
       "Balanced Panel: n = 30, T = 19, N = 570\n",
       "\n",
       "Residuals:\n",
       "         Min.       1st Qu.        Median       3rd Qu.          Max. \n",
       "-0.1297959849 -0.0096360695  0.0008839333  0.0102689250  0.1085740904 \n",
       "\n",
       "Coefficients:\n",
       "                         Estimate  Std. Error z-value  Pr(>|z|)    \n",
       "delta_Lncapital_stock -0.36624109  0.15678682 -2.3359    0.0195 *  \n",
       "delta_RL              -0.00222444  0.00029896 -7.4406 1.002e-13 ***\n",
       "delta_GS               0.00082037  0.00017394  4.7165 2.399e-06 ***\n",
       "delta_RE              -0.00212929  0.00036601 -5.8176 5.971e-09 ***\n",
       "delta_MO               0.00082963  0.00028980  2.8627    0.0042 ** \n",
       "---\n",
       "Signif. codes:  0 '***' 0.001 '**' 0.01 '*' 0.05 '.' 0.1 ' ' 1\n",
       "Total Sum of Squares: 1.374\n",
       "Residual Sum of Squares: 0.24378\n",
       "HPY R-squared: 0.51103"
      ]
     },
     "metadata": {},
     "output_type": "display_data"
    }
   ],
   "source": [
    "# Mean Groups Common Correlated Effects Estimator (MGCCE) excluding Lnlabor_stock\n",
    "CCE_MG_diff3 <- pcce(delta_Lnrgdpo ~ delta_Lncapital_stock + delta_RL + delta_GS + delta_RE + delta_MO, data = pdata, model = \"mg\")\n",
    "summary(CCE_MG_diff3 , vcov = vcovSCC)"
   ]
  },
  {
   "cell_type": "markdown",
   "metadata": {
    "vscode": {
     "languageId": "raw"
    }
   },
   "source": [
    "---\n",
    "# Exporting estimations to CSV"
   ]
  },
  {
   "cell_type": "code",
   "execution_count": null,
   "metadata": {
    "vscode": {
     "languageId": "r"
    }
   },
   "outputs": [],
   "source": [
    "# Create a data frame to store the results\n",
    "results <- data.frame(Model = character(),\n",
    "                      FittedValues = numeric(),\n",
    "                      Residuals = numeric(),\n",
    "                      stringsAsFactors = FALSE)"
   ]
  },
  {
   "cell_type": "code",
   "execution_count": null,
   "metadata": {
    "vscode": {
     "languageId": "r"
    }
   },
   "outputs": [],
   "source": [
    "# Function to extract fitted values and residuals\n",
    "extract_fitted_residuals <- function(model, model_name) {\n",
    "  fitted_vals <- fitted(model)\n",
    "  residuals_vals <- residuals(model)\n",
    "  data.frame(Model = rep(model_name, length(fitted_vals)),\n",
    "             FittedValues = fitted_vals,\n",
    "             Residuals = residuals_vals)\n",
    "}"
   ]
  },
  {
   "cell_type": "code",
   "execution_count": null,
   "metadata": {
    "vscode": {
     "languageId": "r"
    }
   },
   "outputs": [],
   "source": [
    "# Extract for each model and combine\n",
    "results <- rbind(results, extract_fitted_residuals(Pooled, \"Pooled\"))\n",
    "results <- rbind(results, extract_fitted_residuals(RE, \"RE\"))\n",
    "results <- rbind(results, extract_fitted_residuals(FE, \"FE\"))\n",
    "results <- rbind(results, extract_fitted_residuals(CCE_P, \"CCE_P\"))\n",
    "results <- rbind(results, extract_fitted_residuals(CCE_MG, \"CCE_MG\"))\n",
    "results <- rbind(results, extract_fitted_residuals(FE_diff, \"FE_diff\"))\n",
    "results <- rbind(results, extract_fitted_residuals(CCE_P_diff, \"CCE_P_diff\"))\n",
    "results <- rbind(results, extract_fitted_residuals(CCE_MG_diff, \"CCE_MG_diff\"))\n",
    "results <- rbind(results, extract_fitted_residuals(CCE_MG_diff2, \"CCE_MG_diff2\"))\n",
    "results <- rbind(results, extract_fitted_residuals(CCE_MG_diff3, \"CCE_MG_diff3\"))"
   ]
  },
  {
   "cell_type": "code",
   "execution_count": null,
   "metadata": {
    "vscode": {
     "languageId": "r"
    }
   },
   "outputs": [
    {
     "data": {
      "text/html": [
       "<table class=\"dataframe\">\n",
       "<caption>A data.frame: 6 x 3</caption>\n",
       "<thead>\n",
       "\t<tr><th></th><th scope=col>Model</th><th scope=col>FittedValues</th><th scope=col>Residuals</th></tr>\n",
       "\t<tr><th></th><th scope=col>&lt;chr&gt;</th><th scope=col>&lt;dbl&gt;</th><th scope=col>&lt;dbl&gt;</th></tr>\n",
       "</thead>\n",
       "<tbody>\n",
       "\t<tr><th scope=row>Austria-2000</th><td>Pooled</td><td>12.80495</td><td>-0.1705837</td></tr>\n",
       "\t<tr><th scope=row>Austria-2001</th><td>Pooled</td><td>12.82489</td><td>-0.2134796</td></tr>\n",
       "\t<tr><th scope=row>Austria-2002</th><td>Pooled</td><td>12.84021</td><td>-0.2079320</td></tr>\n",
       "\t<tr><th scope=row>Austria-2003</th><td>Pooled</td><td>12.86217</td><td>-0.2053102</td></tr>\n",
       "\t<tr><th scope=row>Austria-2004</th><td>Pooled</td><td>12.87837</td><td>-0.1822627</td></tr>\n",
       "\t<tr><th scope=row>Austria-2005</th><td>Pooled</td><td>12.90625</td><td>-0.1197160</td></tr>\n",
       "</tbody>\n",
       "</table>\n"
      ],
      "text/latex": [
       "A data.frame: 6 x 3\n",
       "\\begin{tabular}{r|lll}\n",
       "  & Model & FittedValues & Residuals\\\\\n",
       "  & <chr> & <dbl> & <dbl>\\\\\n",
       "\\hline\n",
       "\tAustria-2000 & Pooled & 12.80495 & -0.1705837\\\\\n",
       "\tAustria-2001 & Pooled & 12.82489 & -0.2134796\\\\\n",
       "\tAustria-2002 & Pooled & 12.84021 & -0.2079320\\\\\n",
       "\tAustria-2003 & Pooled & 12.86217 & -0.2053102\\\\\n",
       "\tAustria-2004 & Pooled & 12.87837 & -0.1822627\\\\\n",
       "\tAustria-2005 & Pooled & 12.90625 & -0.1197160\\\\\n",
       "\\end{tabular}\n"
      ],
      "text/markdown": [
       "\n",
       "A data.frame: 6 x 3\n",
       "\n",
       "| <!--/--> | Model &lt;chr&gt; | FittedValues &lt;dbl&gt; | Residuals &lt;dbl&gt; |\n",
       "|---|---|---|---|\n",
       "| Austria-2000 | Pooled | 12.80495 | -0.1705837 |\n",
       "| Austria-2001 | Pooled | 12.82489 | -0.2134796 |\n",
       "| Austria-2002 | Pooled | 12.84021 | -0.2079320 |\n",
       "| Austria-2003 | Pooled | 12.86217 | -0.2053102 |\n",
       "| Austria-2004 | Pooled | 12.87837 | -0.1822627 |\n",
       "| Austria-2005 | Pooled | 12.90625 | -0.1197160 |\n",
       "\n"
      ],
      "text/plain": [
       "             Model  FittedValues Residuals \n",
       "Austria-2000 Pooled 12.80495     -0.1705837\n",
       "Austria-2001 Pooled 12.82489     -0.2134796\n",
       "Austria-2002 Pooled 12.84021     -0.2079320\n",
       "Austria-2003 Pooled 12.86217     -0.2053102\n",
       "Austria-2004 Pooled 12.87837     -0.1822627\n",
       "Austria-2005 Pooled 12.90625     -0.1197160"
      ]
     },
     "metadata": {},
     "output_type": "display_data"
    }
   ],
   "source": [
    "head(results)"
   ]
  },
  {
   "cell_type": "code",
   "execution_count": null,
   "metadata": {
    "vscode": {
     "languageId": "r"
    }
   },
   "outputs": [],
   "source": [
    "# Export to CSV\n",
    "write.csv(results, file = \"R-models.csv\", row.names = FALSE)"
   ]
  },
  {
   "cell_type": "code",
   "execution_count": null,
   "metadata": {
    "vscode": {
     "languageId": "r"
    }
   },
   "outputs": [],
   "source": [
    "MG_country_coefficients <- CCE_MG$indcoef\n",
    "MG_diff_country_coefficients <- CCE_MG_diff$indcoef"
   ]
  },
  {
   "cell_type": "code",
   "execution_count": null,
   "metadata": {
    "vscode": {
     "languageId": "r"
    }
   },
   "outputs": [],
   "source": [
    "write.csv(MG_country_coefficients, file = \"MG_country_coefficients.csv\")\n",
    "write.csv(MG_diff_country_coefficients, file = \"MG_diff_country_coefficients.csv\")"
   ]
  }
 ],
 "metadata": {
  "kernelspec": {
   "display_name": "R",
   "language": "R",
   "name": "ir"
  },
  "language_info": {
   "codemirror_mode": "r",
   "file_extension": ".r",
   "mimetype": "text/x-r-source",
   "name": "R",
   "pygments_lexer": "r",
   "version": "4.3.3"
  }
 },
 "nbformat": 4,
 "nbformat_minor": 2
}
